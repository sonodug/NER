{
 "cells": [
  {
   "cell_type": "markdown",
   "id": "bd2b5554",
   "metadata": {},
   "source": [
    "# Setup"
   ]
  },
  {
   "cell_type": "code",
   "execution_count": 5,
   "id": "8c4aeeab",
   "metadata": {},
   "outputs": [
    {
     "name": "stdout",
     "output_type": "stream",
     "text": [
      "Requirement already satisfied: pip==22.0.4 in c:\\users\\maks_\\appdata\\local\\programs\\python\\python39\\lib\\site-packages (from -r requirements.txt (line 1)) (22.0.4)\n",
      "Requirement already satisfied: tornado==6.3.1 in c:\\users\\maks_\\appdata\\local\\programs\\python\\python39\\lib\\site-packages (from -r requirements.txt (line 2)) (6.3.1)\n",
      "Requirement already satisfied: numpy==1.24.2 in c:\\users\\maks_\\appdata\\local\\programs\\python\\python39\\lib\\site-packages (from -r requirements.txt (line 3)) (1.24.2)\n",
      "Requirement already satisfied: blis==0.7.9 in c:\\users\\maks_\\appdata\\local\\programs\\python\\python39\\lib\\site-packages (from -r requirements.txt (line 4)) (0.7.9)\n",
      "Requirement already satisfied: requests==2.28.2 in c:\\users\\maks_\\appdata\\local\\programs\\python\\python39\\lib\\site-packages (from -r requirements.txt (line 5)) (2.28.2)\n",
      "Requirement already satisfied: colorama==0.4.6 in c:\\users\\maks_\\appdata\\local\\programs\\python\\python39\\lib\\site-packages (from -r requirements.txt (line 6)) (0.4.6)\n",
      "Requirement already satisfied: ipython==8.12.0 in c:\\users\\maks_\\appdata\\local\\programs\\python\\python39\\lib\\site-packages (from -r requirements.txt (line 7)) (8.12.0)\n",
      "Requirement already satisfied: notebook==6.5.4 in c:\\users\\maks_\\appdata\\local\\programs\\python\\python39\\lib\\site-packages (from -r requirements.txt (line 8)) (6.5.4)\n",
      "Requirement already satisfied: cymem==2.0.7 in c:\\users\\maks_\\appdata\\local\\programs\\python\\python39\\lib\\site-packages (from -r requirements.txt (line 9)) (2.0.7)\n",
      "Requirement already satisfied: setuptools==58.1.0 in c:\\users\\maks_\\appdata\\local\\programs\\python\\python39\\lib\\site-packages (from -r requirements.txt (line 10)) (58.1.0)\n",
      "Requirement already satisfied: cffi==1.15.1 in c:\\users\\maks_\\appdata\\local\\programs\\python\\python39\\lib\\site-packages (from -r requirements.txt (line 11)) (1.15.1)\n",
      "Requirement already satisfied: pathy==0.10.1 in c:\\users\\maks_\\appdata\\local\\programs\\python\\python39\\lib\\site-packages (from -r requirements.txt (line 12)) (0.10.1)\n",
      "Requirement already satisfied: typer==0.7.0 in c:\\users\\maks_\\appdata\\local\\programs\\python\\python39\\lib\\site-packages (from -r requirements.txt (line 13)) (0.7.0)\n",
      "Requirement already satisfied: spacy==3.5.2 in c:\\users\\maks_\\appdata\\local\\programs\\python\\python39\\lib\\site-packages (from -r requirements.txt (line 14)) (3.5.2)\n",
      "Requirement already satisfied: thinc==8.1.9 in c:\\users\\maks_\\appdata\\local\\programs\\python\\python39\\lib\\site-packages (from -r requirements.txt (line 15)) (8.1.9)\n",
      "Requirement already satisfied: attrs==23.1.0 in c:\\users\\maks_\\appdata\\local\\programs\\python\\python39\\lib\\site-packages (from -r requirements.txt (line 16)) (23.1.0)\n",
      "Requirement already satisfied: srsly==2.4.6 in c:\\users\\maks_\\appdata\\local\\programs\\python\\python39\\lib\\site-packages (from -r requirements.txt (line 17)) (2.4.6)\n",
      "Requirement already satisfied: wasabi==0.10.1 in c:\\users\\maks_\\appdata\\local\\programs\\python\\python39\\lib\\site-packages (from -r requirements.txt (line 18)) (0.10.1)\n",
      "Requirement already satisfied: click==8.1.3 in c:\\users\\maks_\\appdata\\local\\programs\\python\\python39\\lib\\site-packages (from -r requirements.txt (line 19)) (8.1.3)\n",
      "Requirement already satisfied: tqdm==4.65.0 in c:\\users\\maks_\\appdata\\local\\programs\\python\\python39\\lib\\site-packages (from -r requirements.txt (line 20)) (4.65.0)\n",
      "Requirement already satisfied: catalogue==2.0.8 in c:\\users\\maks_\\appdata\\local\\programs\\python\\python39\\lib\\site-packages (from -r requirements.txt (line 21)) (2.0.8)\n",
      "Requirement already satisfied: Jinja2==3.1.2 in c:\\users\\maks_\\appdata\\local\\programs\\python\\python39\\lib\\site-packages (from -r requirements.txt (line 22)) (3.1.2)\n",
      "Requirement already satisfied: pydantic==1.9.2 in c:\\users\\maks_\\appdata\\local\\programs\\python\\python39\\lib\\site-packages (from -r requirements.txt (line 23)) (1.9.2)\n",
      "Requirement already satisfied: packaging==23.1 in c:\\users\\maks_\\appdata\\local\\programs\\python\\python39\\lib\\site-packages (from -r requirements.txt (line 24)) (23.1)\n",
      "Requirement already satisfied: langcodes==3.3.0 in c:\\users\\maks_\\appdata\\local\\programs\\python\\python39\\lib\\site-packages (from -r requirements.txt (line 25)) (3.3.0)\n",
      "Requirement already satisfied: preshed==3.0.8 in c:\\users\\maks_\\appdata\\local\\programs\\python\\python39\\lib\\site-packages (from -r requirements.txt (line 26)) (3.0.8)\n",
      "Requirement already satisfied: psutil==5.9.5 in c:\\users\\maks_\\appdata\\local\\programs\\python\\python39\\lib\\site-packages (from -r requirements.txt (line 27)) (5.9.5)\n",
      "Requirement already satisfied: murmurhash==1.0.9 in c:\\users\\maks_\\appdata\\local\\programs\\python\\python39\\lib\\site-packages (from -r requirements.txt (line 28)) (1.0.9)\n",
      "Requirement already satisfied: confection==0.0.4 in c:\\users\\maks_\\appdata\\local\\programs\\python\\python39\\lib\\site-packages (from -r requirements.txt (line 29)) (0.0.4)\n",
      "Requirement already satisfied: MarkupSafe==2.1.2 in c:\\users\\maks_\\appdata\\local\\programs\\python\\python39\\lib\\site-packages (from -r requirements.txt (line 30)) (2.1.2)\n",
      "Requirement already satisfied: certifi==2022.12.7 in c:\\users\\maks_\\appdata\\local\\programs\\python\\python39\\lib\\site-packages (from -r requirements.txt (line 31)) (2022.12.7)\n",
      "Requirement already satisfied: six==1.16.0 in c:\\users\\maks_\\appdata\\local\\programs\\python\\python39\\lib\\site-packages (from -r requirements.txt (line 32)) (1.16.0)\n",
      "Requirement already satisfied: decorator==5.1.1 in c:\\users\\maks_\\appdata\\local\\programs\\python\\python39\\lib\\site-packages (from -r requirements.txt (line 33)) (5.1.1)\n",
      "Requirement already satisfied: idna==3.4 in c:\\users\\maks_\\appdata\\local\\programs\\python\\python39\\lib\\site-packages (from -r requirements.txt (line 34)) (3.4)\n",
      "Requirement already satisfied: urllib3==1.26.15 in c:\\users\\maks_\\appdata\\local\\programs\\python\\python39\\lib\\site-packages (from -r requirements.txt (line 35)) (1.26.15)\n",
      "Requirement already satisfied: zipp==3.15.0 in c:\\users\\maks_\\appdata\\local\\programs\\python\\python39\\lib\\site-packages (from -r requirements.txt (line 36)) (3.15.0)\n",
      "Requirement already satisfied: pandas==1.5.3 in c:\\users\\maks_\\appdata\\local\\programs\\python\\python39\\lib\\site-packages (from -r requirements.txt (line 37)) (1.5.3)\n",
      "Requirement already satisfied: charset-normalizer<4,>=2 in c:\\users\\maks_\\appdata\\local\\programs\\python\\python39\\lib\\site-packages (from requests==2.28.2->-r requirements.txt (line 5)) (3.1.0)\n",
      "Requirement already satisfied: traitlets>=5 in c:\\users\\maks_\\appdata\\local\\programs\\python\\python39\\lib\\site-packages (from ipython==8.12.0->-r requirements.txt (line 7)) (5.9.0)\n",
      "Requirement already satisfied: stack-data in c:\\users\\maks_\\appdata\\local\\programs\\python\\python39\\lib\\site-packages (from ipython==8.12.0->-r requirements.txt (line 7)) (0.6.2)\n",
      "Requirement already satisfied: jedi>=0.16 in c:\\users\\maks_\\appdata\\local\\programs\\python\\python39\\lib\\site-packages (from ipython==8.12.0->-r requirements.txt (line 7)) (0.18.2)\n",
      "Requirement already satisfied: backcall in c:\\users\\maks_\\appdata\\local\\programs\\python\\python39\\lib\\site-packages (from ipython==8.12.0->-r requirements.txt (line 7)) (0.2.0)\n",
      "Requirement already satisfied: pickleshare in c:\\users\\maks_\\appdata\\local\\programs\\python\\python39\\lib\\site-packages (from ipython==8.12.0->-r requirements.txt (line 7)) (0.7.5)\n",
      "Requirement already satisfied: typing-extensions in c:\\users\\maks_\\appdata\\local\\programs\\python\\python39\\lib\\site-packages (from ipython==8.12.0->-r requirements.txt (line 7)) (4.5.0)\n",
      "Requirement already satisfied: matplotlib-inline in c:\\users\\maks_\\appdata\\local\\programs\\python\\python39\\lib\\site-packages (from ipython==8.12.0->-r requirements.txt (line 7)) (0.1.6)\n",
      "Requirement already satisfied: prompt-toolkit!=3.0.37,<3.1.0,>=3.0.30 in c:\\users\\maks_\\appdata\\local\\programs\\python\\python39\\lib\\site-packages (from ipython==8.12.0->-r requirements.txt (line 7)) (3.0.38)\n",
      "Requirement already satisfied: pygments>=2.4.0 in c:\\users\\maks_\\appdata\\local\\programs\\python\\python39\\lib\\site-packages (from ipython==8.12.0->-r requirements.txt (line 7)) (2.15.1)\n",
      "Requirement already satisfied: ipykernel in c:\\users\\maks_\\appdata\\local\\programs\\python\\python39\\lib\\site-packages (from notebook==6.5.4->-r requirements.txt (line 8)) (6.22.0)\n",
      "Requirement already satisfied: argon2-cffi in c:\\users\\maks_\\appdata\\local\\programs\\python\\python39\\lib\\site-packages (from notebook==6.5.4->-r requirements.txt (line 8)) (21.3.0)\n",
      "Requirement already satisfied: nbformat in c:\\users\\maks_\\appdata\\local\\programs\\python\\python39\\lib\\site-packages (from notebook==6.5.4->-r requirements.txt (line 8)) (5.8.0)\n",
      "Requirement already satisfied: pyzmq>=17 in c:\\users\\maks_\\appdata\\local\\programs\\python\\python39\\lib\\site-packages (from notebook==6.5.4->-r requirements.txt (line 8)) (25.0.2)\n",
      "Requirement already satisfied: terminado>=0.8.3 in c:\\users\\maks_\\appdata\\local\\programs\\python\\python39\\lib\\site-packages (from notebook==6.5.4->-r requirements.txt (line 8)) (0.17.1)\n",
      "Requirement already satisfied: nest-asyncio>=1.5 in c:\\users\\maks_\\appdata\\local\\programs\\python\\python39\\lib\\site-packages (from notebook==6.5.4->-r requirements.txt (line 8)) (1.5.6)\n",
      "Requirement already satisfied: prometheus-client in c:\\users\\maks_\\appdata\\local\\programs\\python\\python39\\lib\\site-packages (from notebook==6.5.4->-r requirements.txt (line 8)) (0.16.0)\n",
      "Requirement already satisfied: ipython-genutils in c:\\users\\maks_\\appdata\\local\\programs\\python\\python39\\lib\\site-packages (from notebook==6.5.4->-r requirements.txt (line 8)) (0.2.0)\n",
      "Requirement already satisfied: nbconvert>=5 in c:\\users\\maks_\\appdata\\local\\programs\\python\\python39\\lib\\site-packages (from notebook==6.5.4->-r requirements.txt (line 8)) (7.3.1)\n",
      "Requirement already satisfied: nbclassic>=0.4.7 in c:\\users\\maks_\\appdata\\local\\programs\\python\\python39\\lib\\site-packages (from notebook==6.5.4->-r requirements.txt (line 8)) (0.5.5)\n",
      "Requirement already satisfied: jupyter-core>=4.6.1 in c:\\users\\maks_\\appdata\\local\\programs\\python\\python39\\lib\\site-packages (from notebook==6.5.4->-r requirements.txt (line 8)) (5.3.0)\n",
      "Requirement already satisfied: jupyter-client>=5.3.4 in c:\\users\\maks_\\appdata\\local\\programs\\python\\python39\\lib\\site-packages (from notebook==6.5.4->-r requirements.txt (line 8)) (8.2.0)\n",
      "Requirement already satisfied: Send2Trash>=1.8.0 in c:\\users\\maks_\\appdata\\local\\programs\\python\\python39\\lib\\site-packages (from notebook==6.5.4->-r requirements.txt (line 8)) (1.8.0)\n",
      "Requirement already satisfied: pycparser in c:\\users\\maks_\\appdata\\local\\programs\\python\\python39\\lib\\site-packages (from cffi==1.15.1->-r requirements.txt (line 11)) (2.21)\n",
      "Requirement already satisfied: smart-open<7.0.0,>=5.2.1 in c:\\users\\maks_\\appdata\\local\\programs\\python\\python39\\lib\\site-packages (from pathy==0.10.1->-r requirements.txt (line 12)) (6.3.0)\n",
      "Requirement already satisfied: spacy-loggers<2.0.0,>=1.0.0 in c:\\users\\maks_\\appdata\\local\\programs\\python\\python39\\lib\\site-packages (from spacy==3.5.2->-r requirements.txt (line 14)) (1.0.4)\n",
      "Requirement already satisfied: spacy-legacy<3.1.0,>=3.0.11 in c:\\users\\maks_\\appdata\\local\\programs\\python\\python39\\lib\\site-packages (from spacy==3.5.2->-r requirements.txt (line 14)) (3.0.12)\n",
      "Requirement already satisfied: pytz>=2020.1 in c:\\users\\maks_\\appdata\\local\\programs\\python\\python39\\lib\\site-packages (from pandas==1.5.3->-r requirements.txt (line 37)) (2023.3)\n",
      "Requirement already satisfied: python-dateutil>=2.8.1 in c:\\users\\maks_\\appdata\\local\\programs\\python\\python39\\lib\\site-packages (from pandas==1.5.3->-r requirements.txt (line 37)) (2.8.2)\n",
      "Requirement already satisfied: parso<0.9.0,>=0.8.0 in c:\\users\\maks_\\appdata\\local\\programs\\python\\python39\\lib\\site-packages (from jedi>=0.16->ipython==8.12.0->-r requirements.txt (line 7)) (0.8.3)\n",
      "Requirement already satisfied: importlib-metadata>=4.8.3 in c:\\users\\maks_\\appdata\\local\\programs\\python\\python39\\lib\\site-packages (from jupyter-client>=5.3.4->notebook==6.5.4->-r requirements.txt (line 8)) (6.5.1)\n",
      "Requirement already satisfied: pywin32>=300 in c:\\users\\maks_\\appdata\\local\\programs\\python\\python39\\lib\\site-packages (from jupyter-core>=4.6.1->notebook==6.5.4->-r requirements.txt (line 8)) (306)\n",
      "Requirement already satisfied: platformdirs>=2.5 in c:\\users\\maks_\\appdata\\local\\programs\\python\\python39\\lib\\site-packages (from jupyter-core>=4.6.1->notebook==6.5.4->-r requirements.txt (line 8)) (3.2.0)\n",
      "Requirement already satisfied: jupyter-server>=1.8 in c:\\users\\maks_\\appdata\\local\\programs\\python\\python39\\lib\\site-packages (from nbclassic>=0.4.7->notebook==6.5.4->-r requirements.txt (line 8)) (2.5.0)\n",
      "Requirement already satisfied: notebook-shim>=0.1.0 in c:\\users\\maks_\\appdata\\local\\programs\\python\\python39\\lib\\site-packages (from nbclassic>=0.4.7->notebook==6.5.4->-r requirements.txt (line 8)) (0.2.2)\n",
      "Requirement already satisfied: pandocfilters>=1.4.1 in c:\\users\\maks_\\appdata\\local\\programs\\python\\python39\\lib\\site-packages (from nbconvert>=5->notebook==6.5.4->-r requirements.txt (line 8)) (1.5.0)\n",
      "Requirement already satisfied: jupyterlab-pygments in c:\\users\\maks_\\appdata\\local\\programs\\python\\python39\\lib\\site-packages (from nbconvert>=5->notebook==6.5.4->-r requirements.txt (line 8)) (0.2.2)\n",
      "Requirement already satisfied: mistune<3,>=2.0.3 in c:\\users\\maks_\\appdata\\local\\programs\\python\\python39\\lib\\site-packages (from nbconvert>=5->notebook==6.5.4->-r requirements.txt (line 8)) (2.0.5)\n",
      "Requirement already satisfied: defusedxml in c:\\users\\maks_\\appdata\\local\\programs\\python\\python39\\lib\\site-packages (from nbconvert>=5->notebook==6.5.4->-r requirements.txt (line 8)) (0.7.1)\n",
      "Requirement already satisfied: tinycss2 in c:\\users\\maks_\\appdata\\local\\programs\\python\\python39\\lib\\site-packages (from nbconvert>=5->notebook==6.5.4->-r requirements.txt (line 8)) (1.2.1)\n",
      "Requirement already satisfied: beautifulsoup4 in c:\\users\\maks_\\appdata\\local\\programs\\python\\python39\\lib\\site-packages (from nbconvert>=5->notebook==6.5.4->-r requirements.txt (line 8)) (4.12.2)\n",
      "Requirement already satisfied: nbclient>=0.5.0 in c:\\users\\maks_\\appdata\\local\\programs\\python\\python39\\lib\\site-packages (from nbconvert>=5->notebook==6.5.4->-r requirements.txt (line 8)) (0.7.3)\n",
      "Requirement already satisfied: bleach in c:\\users\\maks_\\appdata\\local\\programs\\python\\python39\\lib\\site-packages (from nbconvert>=5->notebook==6.5.4->-r requirements.txt (line 8)) (6.0.0)\n",
      "Requirement already satisfied: jsonschema>=2.6 in c:\\users\\maks_\\appdata\\local\\programs\\python\\python39\\lib\\site-packages (from nbformat->notebook==6.5.4->-r requirements.txt (line 8)) (4.17.3)\n",
      "Requirement already satisfied: fastjsonschema in c:\\users\\maks_\\appdata\\local\\programs\\python\\python39\\lib\\site-packages (from nbformat->notebook==6.5.4->-r requirements.txt (line 8)) (2.16.3)\n",
      "Requirement already satisfied: wcwidth in c:\\users\\maks_\\appdata\\local\\programs\\python\\python39\\lib\\site-packages (from prompt-toolkit!=3.0.37,<3.1.0,>=3.0.30->ipython==8.12.0->-r requirements.txt (line 7)) (0.2.6)\n",
      "Requirement already satisfied: pywinpty>=1.1.0 in c:\\users\\maks_\\appdata\\local\\programs\\python\\python39\\lib\\site-packages (from terminado>=0.8.3->notebook==6.5.4->-r requirements.txt (line 8)) (2.0.10)\n",
      "Requirement already satisfied: argon2-cffi-bindings in c:\\users\\maks_\\appdata\\local\\programs\\python\\python39\\lib\\site-packages (from argon2-cffi->notebook==6.5.4->-r requirements.txt (line 8)) (21.2.0)\n",
      "Requirement already satisfied: debugpy>=1.6.5 in c:\\users\\maks_\\appdata\\local\\programs\\python\\python39\\lib\\site-packages (from ipykernel->notebook==6.5.4->-r requirements.txt (line 8)) (1.6.7)\n",
      "Requirement already satisfied: comm>=0.1.1 in c:\\users\\maks_\\appdata\\local\\programs\\python\\python39\\lib\\site-packages (from ipykernel->notebook==6.5.4->-r requirements.txt (line 8)) (0.1.3)\n",
      "Requirement already satisfied: asttokens>=2.1.0 in c:\\users\\maks_\\appdata\\local\\programs\\python\\python39\\lib\\site-packages (from stack-data->ipython==8.12.0->-r requirements.txt (line 7)) (2.2.1)\n",
      "Requirement already satisfied: executing>=1.2.0 in c:\\users\\maks_\\appdata\\local\\programs\\python\\python39\\lib\\site-packages (from stack-data->ipython==8.12.0->-r requirements.txt (line 7)) (1.2.0)\n",
      "Requirement already satisfied: pure-eval in c:\\users\\maks_\\appdata\\local\\programs\\python\\python39\\lib\\site-packages (from stack-data->ipython==8.12.0->-r requirements.txt (line 7)) (0.2.2)\n",
      "Requirement already satisfied: pyrsistent!=0.17.0,!=0.17.1,!=0.17.2,>=0.14.0 in c:\\users\\maks_\\appdata\\local\\programs\\python\\python39\\lib\\site-packages (from jsonschema>=2.6->nbformat->notebook==6.5.4->-r requirements.txt (line 8)) (0.19.3)\n",
      "Requirement already satisfied: websocket-client in c:\\users\\maks_\\appdata\\local\\programs\\python\\python39\\lib\\site-packages (from jupyter-server>=1.8->nbclassic>=0.4.7->notebook==6.5.4->-r requirements.txt (line 8)) (1.5.1)\n",
      "Requirement already satisfied: jupyter-server-terminals in c:\\users\\maks_\\appdata\\local\\programs\\python\\python39\\lib\\site-packages (from jupyter-server>=1.8->nbclassic>=0.4.7->notebook==6.5.4->-r requirements.txt (line 8)) (0.4.4)\n",
      "Requirement already satisfied: jupyter-events>=0.4.0 in c:\\users\\maks_\\appdata\\local\\programs\\python\\python39\\lib\\site-packages (from jupyter-server>=1.8->nbclassic>=0.4.7->notebook==6.5.4->-r requirements.txt (line 8)) (0.6.3)\n",
      "Requirement already satisfied: anyio>=3.1.0 in c:\\users\\maks_\\appdata\\local\\programs\\python\\python39\\lib\\site-packages (from jupyter-server>=1.8->nbclassic>=0.4.7->notebook==6.5.4->-r requirements.txt (line 8)) (3.6.2)\n",
      "Requirement already satisfied: soupsieve>1.2 in c:\\users\\maks_\\appdata\\local\\programs\\python\\python39\\lib\\site-packages (from beautifulsoup4->nbconvert>=5->notebook==6.5.4->-r requirements.txt (line 8)) (2.4.1)\n",
      "Requirement already satisfied: webencodings in c:\\users\\maks_\\appdata\\local\\programs\\python\\python39\\lib\\site-packages (from bleach->nbconvert>=5->notebook==6.5.4->-r requirements.txt (line 8)) (0.5.1)\n",
      "Requirement already satisfied: sniffio>=1.1 in c:\\users\\maks_\\appdata\\local\\programs\\python\\python39\\lib\\site-packages (from anyio>=3.1.0->jupyter-server>=1.8->nbclassic>=0.4.7->notebook==6.5.4->-r requirements.txt (line 8)) (1.3.0)\n",
      "Requirement already satisfied: rfc3986-validator>=0.1.1 in c:\\users\\maks_\\appdata\\local\\programs\\python\\python39\\lib\\site-packages (from jupyter-events>=0.4.0->jupyter-server>=1.8->nbclassic>=0.4.7->notebook==6.5.4->-r requirements.txt (line 8)) (0.1.1)\n",
      "Requirement already satisfied: pyyaml>=5.3 in c:\\users\\maks_\\appdata\\local\\programs\\python\\python39\\lib\\site-packages (from jupyter-events>=0.4.0->jupyter-server>=1.8->nbclassic>=0.4.7->notebook==6.5.4->-r requirements.txt (line 8)) (6.0)\n",
      "Requirement already satisfied: rfc3339-validator in c:\\users\\maks_\\appdata\\local\\programs\\python\\python39\\lib\\site-packages (from jupyter-events>=0.4.0->jupyter-server>=1.8->nbclassic>=0.4.7->notebook==6.5.4->-r requirements.txt (line 8)) (0.1.4)\n",
      "Requirement already satisfied: python-json-logger>=2.0.4 in c:\\users\\maks_\\appdata\\local\\programs\\python\\python39\\lib\\site-packages (from jupyter-events>=0.4.0->jupyter-server>=1.8->nbclassic>=0.4.7->notebook==6.5.4->-r requirements.txt (line 8)) (2.0.7)\n",
      "Requirement already satisfied: isoduration in c:\\users\\maks_\\appdata\\local\\programs\\python\\python39\\lib\\site-packages (from jsonschema>=2.6->nbformat->notebook==6.5.4->-r requirements.txt (line 8)) (20.11.0)\n",
      "Requirement already satisfied: uri-template in c:\\users\\maks_\\appdata\\local\\programs\\python\\python39\\lib\\site-packages (from jsonschema>=2.6->nbformat->notebook==6.5.4->-r requirements.txt (line 8)) (1.2.0)\n",
      "Requirement already satisfied: webcolors>=1.11 in c:\\users\\maks_\\appdata\\local\\programs\\python\\python39\\lib\\site-packages (from jsonschema>=2.6->nbformat->notebook==6.5.4->-r requirements.txt (line 8)) (1.13)\n",
      "Requirement already satisfied: jsonpointer>1.13 in c:\\users\\maks_\\appdata\\local\\programs\\python\\python39\\lib\\site-packages (from jsonschema>=2.6->nbformat->notebook==6.5.4->-r requirements.txt (line 8)) (2.3)\n",
      "Requirement already satisfied: fqdn in c:\\users\\maks_\\appdata\\local\\programs\\python\\python39\\lib\\site-packages (from jsonschema>=2.6->nbformat->notebook==6.5.4->-r requirements.txt (line 8)) (1.5.1)\n",
      "Requirement already satisfied: arrow>=0.15.0 in c:\\users\\maks_\\appdata\\local\\programs\\python\\python39\\lib\\site-packages (from isoduration->jsonschema>=2.6->nbformat->notebook==6.5.4->-r requirements.txt (line 8)) (1.2.3)\n",
      "Note: you may need to restart the kernel to use updated packages.\n"
     ]
    },
    {
     "name": "stderr",
     "output_type": "stream",
     "text": [
      "WARNING: You are using pip version 22.0.4; however, version 23.1 is available.\n",
      "You should consider upgrading via the 'C:\\Users\\maks_\\AppData\\Local\\Programs\\Python\\Python39\\python.exe -m pip install --upgrade pip' command.\n"
     ]
    }
   ],
   "source": [
    "pip install -r requirements.txt"
   ]
  },
  {
   "cell_type": "code",
   "execution_count": 6,
   "id": "2de9deac",
   "metadata": {},
   "outputs": [],
   "source": [
    "import json\n",
    "import pandas as pd\n",
    "import spacy\n",
    "from spacy import displacy\n",
    "import locale"
   ]
  },
  {
   "cell_type": "markdown",
   "id": "591c43d7",
   "metadata": {},
   "source": [
    "# Data preparation"
   ]
  },
  {
   "cell_type": "code",
   "execution_count": 7,
   "id": "8adbc6d3",
   "metadata": {},
   "outputs": [],
   "source": [
    "train_url = 'https://raw.githubusercontent.com/sonodug/NER/main/data/train.json'\n",
    "test_url = 'https://raw.githubusercontent.com/sonodug/NER/main/data/test.json'\n",
    "\n",
    "train_df  = pd.read_json(train_url)\n",
    "test_df = pd.read_json(test_url)"
   ]
  },
  {
   "cell_type": "code",
   "execution_count": 8,
   "id": "f18ad7b9",
   "metadata": {},
   "outputs": [
    {
     "data": {
      "text/html": [
       "<div>\n",
       "<style scoped>\n",
       "    .dataframe tbody tr th:only-of-type {\n",
       "        vertical-align: middle;\n",
       "    }\n",
       "\n",
       "    .dataframe tbody tr th {\n",
       "        vertical-align: top;\n",
       "    }\n",
       "\n",
       "    .dataframe thead th {\n",
       "        text-align: right;\n",
       "    }\n",
       "</style>\n",
       "<table border=\"1\" class=\"dataframe\">\n",
       "  <thead>\n",
       "    <tr style=\"text-align: right;\">\n",
       "      <th></th>\n",
       "      <th>id</th>\n",
       "      <th>text</th>\n",
       "      <th>label</th>\n",
       "      <th>extracted_part</th>\n",
       "    </tr>\n",
       "  </thead>\n",
       "  <tbody>\n",
       "    <tr>\n",
       "      <th>0</th>\n",
       "      <td>809436509</td>\n",
       "      <td>Извещение о проведении открытого конкурса в эл...</td>\n",
       "      <td>обеспечение исполнения контракта</td>\n",
       "      <td>{'text': ['Размер обеспечения исполнения контр...</td>\n",
       "    </tr>\n",
       "    <tr>\n",
       "      <th>1</th>\n",
       "      <td>854885310</td>\n",
       "      <td>ТРЕБОВАНИЯ К СОДЕРЖАНИЮ ЗАЯВКИ участника запро...</td>\n",
       "      <td>обеспечение исполнения контракта</td>\n",
       "      <td>{'text': ['Поставщик должен предоставить обесп...</td>\n",
       "    </tr>\n",
       "    <tr>\n",
       "      <th>2</th>\n",
       "      <td>4382157</td>\n",
       "      <td>Извещение о проведении электронного аукциона д...</td>\n",
       "      <td>обеспечение исполнения контракта</td>\n",
       "      <td>{'text': ['Размер обеспечения исполнения контр...</td>\n",
       "    </tr>\n",
       "    <tr>\n",
       "      <th>3</th>\n",
       "      <td>184555082</td>\n",
       "      <td>Извещение о проведении электронного аукциона д...</td>\n",
       "      <td>обеспечение исполнения контракта</td>\n",
       "      <td>{'text': ['Размер обеспечения исполнения контр...</td>\n",
       "    </tr>\n",
       "    <tr>\n",
       "      <th>4</th>\n",
       "      <td>211645258</td>\n",
       "      <td>Извещение о проведении электронного аукциона д...</td>\n",
       "      <td>обеспечение исполнения контракта</td>\n",
       "      <td>{'text': ['Размер обеспечения исполнения контр...</td>\n",
       "    </tr>\n",
       "  </tbody>\n",
       "</table>\n",
       "</div>"
      ],
      "text/plain": [
       "          id                                               text  \\\n",
       "0  809436509  Извещение о проведении открытого конкурса в эл...   \n",
       "1  854885310  ТРЕБОВАНИЯ К СОДЕРЖАНИЮ ЗАЯВКИ участника запро...   \n",
       "2    4382157  Извещение о проведении электронного аукциона д...   \n",
       "3  184555082  Извещение о проведении электронного аукциона д...   \n",
       "4  211645258  Извещение о проведении электронного аукциона д...   \n",
       "\n",
       "                              label  \\\n",
       "0  обеспечение исполнения контракта   \n",
       "1  обеспечение исполнения контракта   \n",
       "2  обеспечение исполнения контракта   \n",
       "3  обеспечение исполнения контракта   \n",
       "4  обеспечение исполнения контракта   \n",
       "\n",
       "                                      extracted_part  \n",
       "0  {'text': ['Размер обеспечения исполнения контр...  \n",
       "1  {'text': ['Поставщик должен предоставить обесп...  \n",
       "2  {'text': ['Размер обеспечения исполнения контр...  \n",
       "3  {'text': ['Размер обеспечения исполнения контр...  \n",
       "4  {'text': ['Размер обеспечения исполнения контр...  "
      ]
     },
     "execution_count": 8,
     "metadata": {},
     "output_type": "execute_result"
    }
   ],
   "source": [
    "train_df.head()"
   ]
  },
  {
   "cell_type": "code",
   "execution_count": 9,
   "id": "dedc5e7a",
   "metadata": {},
   "outputs": [
    {
     "data": {
      "text/html": [
       "<div>\n",
       "<style scoped>\n",
       "    .dataframe tbody tr th:only-of-type {\n",
       "        vertical-align: middle;\n",
       "    }\n",
       "\n",
       "    .dataframe tbody tr th {\n",
       "        vertical-align: top;\n",
       "    }\n",
       "\n",
       "    .dataframe thead th {\n",
       "        text-align: right;\n",
       "    }\n",
       "</style>\n",
       "<table border=\"1\" class=\"dataframe\">\n",
       "  <thead>\n",
       "    <tr style=\"text-align: right;\">\n",
       "      <th></th>\n",
       "      <th>id</th>\n",
       "      <th>text</th>\n",
       "      <th>label</th>\n",
       "    </tr>\n",
       "  </thead>\n",
       "  <tbody>\n",
       "    <tr>\n",
       "      <th>0</th>\n",
       "      <td>762883279</td>\n",
       "      <td>МУНИЦИПАЛЬНЫЙ КОНТРАКТ № ______ на оказание ус...</td>\n",
       "      <td>обеспечение исполнения контракта</td>\n",
       "    </tr>\n",
       "    <tr>\n",
       "      <th>1</th>\n",
       "      <td>311837655</td>\n",
       "      <td>Извещение о проведении электронного аукциона д...</td>\n",
       "      <td>обеспечение исполнения контракта</td>\n",
       "    </tr>\n",
       "    <tr>\n",
       "      <th>2</th>\n",
       "      <td>540954893</td>\n",
       "      <td>Идентификационный код закупки: 222633005300163...</td>\n",
       "      <td>обеспечение исполнения контракта</td>\n",
       "    </tr>\n",
       "    <tr>\n",
       "      <th>3</th>\n",
       "      <td>274660397</td>\n",
       "      <td>Идентификационный код закупки: 222631202689463...</td>\n",
       "      <td>обеспечение исполнения контракта</td>\n",
       "    </tr>\n",
       "    <tr>\n",
       "      <th>4</th>\n",
       "      <td>732742591</td>\n",
       "      <td>Идентификационный код закупки: 222637800031163...</td>\n",
       "      <td>обеспечение исполнения контракта</td>\n",
       "    </tr>\n",
       "  </tbody>\n",
       "</table>\n",
       "</div>"
      ],
      "text/plain": [
       "          id                                               text  \\\n",
       "0  762883279  МУНИЦИПАЛЬНЫЙ КОНТРАКТ № ______ на оказание ус...   \n",
       "1  311837655  Извещение о проведении электронного аукциона д...   \n",
       "2  540954893  Идентификационный код закупки: 222633005300163...   \n",
       "3  274660397  Идентификационный код закупки: 222631202689463...   \n",
       "4  732742591  Идентификационный код закупки: 222637800031163...   \n",
       "\n",
       "                              label  \n",
       "0  обеспечение исполнения контракта  \n",
       "1  обеспечение исполнения контракта  \n",
       "2  обеспечение исполнения контракта  \n",
       "3  обеспечение исполнения контракта  \n",
       "4  обеспечение исполнения контракта  "
      ]
     },
     "execution_count": 9,
     "metadata": {},
     "output_type": "execute_result"
    }
   ],
   "source": [
    "test_df.head()"
   ]
  },
  {
   "cell_type": "code",
   "execution_count": 15,
   "id": "5671ea5f",
   "metadata": {},
   "outputs": [
    {
     "data": {
      "text/plain": [
       "1799"
      ]
     },
     "execution_count": 15,
     "metadata": {},
     "output_type": "execute_result"
    }
   ],
   "source": [
    "len(train_df[\"text\"].values)"
   ]
  },
  {
   "cell_type": "code",
   "execution_count": 16,
   "id": "346857fe",
   "metadata": {},
   "outputs": [
    {
     "data": {
      "text/plain": [
       "318"
      ]
     },
     "execution_count": 16,
     "metadata": {},
     "output_type": "execute_result"
    }
   ],
   "source": [
    "len(test_df[\"text\"].values)"
   ]
  },
  {
   "cell_type": "code",
   "execution_count": 10,
   "id": "0ac9e2f9",
   "metadata": {},
   "outputs": [],
   "source": [
    "locale.getpreferredencoding = lambda: \"UTF-8\""
   ]
  },
  {
   "cell_type": "markdown",
   "id": "e8e6b788",
   "metadata": {},
   "source": [
    "# NER with spaCy's pretrained model "
   ]
  },
  {
   "cell_type": "code",
   "execution_count": 11,
   "id": "11bf7f77",
   "metadata": {},
   "outputs": [
    {
     "name": "stdout",
     "output_type": "stream",
     "text": [
      "Collecting ru-core-news-sm==3.5.0\n",
      "  Downloading https://github.com/explosion/spacy-models/releases/download/ru_core_news_sm-3.5.0/ru_core_news_sm-3.5.0-py3-none-any.whl (15.3 MB)\n",
      "     ---------------------------------------- 15.3/15.3 MB 4.6 MB/s eta 0:00:00\n",
      "Requirement already satisfied: pymorphy3>=1.0.0 in c:\\users\\maks_\\appdata\\local\\programs\\python\\python39\\lib\\site-packages (from ru-core-news-sm==3.5.0) (1.2.0)\n",
      "Requirement already satisfied: spacy<3.6.0,>=3.5.0 in c:\\users\\maks_\\appdata\\local\\programs\\python\\python39\\lib\\site-packages (from ru-core-news-sm==3.5.0) (3.5.2)\n",
      "Requirement already satisfied: pymorphy3-dicts-ru in c:\\users\\maks_\\appdata\\local\\programs\\python\\python39\\lib\\site-packages (from pymorphy3>=1.0.0->ru-core-news-sm==3.5.0) (2.4.417150.4580142)\n",
      "Requirement already satisfied: dawg-python>=0.7.1 in c:\\users\\maks_\\appdata\\local\\programs\\python\\python39\\lib\\site-packages (from pymorphy3>=1.0.0->ru-core-news-sm==3.5.0) (0.7.2)\n",
      "Requirement already satisfied: docopt>=0.6 in c:\\users\\maks_\\appdata\\local\\programs\\python\\python39\\lib\\site-packages (from pymorphy3>=1.0.0->ru-core-news-sm==3.5.0) (0.6.2)\n",
      "Requirement already satisfied: tqdm<5.0.0,>=4.38.0 in c:\\users\\maks_\\appdata\\local\\programs\\python\\python39\\lib\\site-packages (from spacy<3.6.0,>=3.5.0->ru-core-news-sm==3.5.0) (4.65.0)\n",
      "Requirement already satisfied: numpy>=1.15.0 in c:\\users\\maks_\\appdata\\local\\programs\\python\\python39\\lib\\site-packages (from spacy<3.6.0,>=3.5.0->ru-core-news-sm==3.5.0) (1.24.2)\n",
      "Requirement already satisfied: catalogue<2.1.0,>=2.0.6 in c:\\users\\maks_\\appdata\\local\\programs\\python\\python39\\lib\\site-packages (from spacy<3.6.0,>=3.5.0->ru-core-news-sm==3.5.0) (2.0.8)\n",
      "Requirement already satisfied: spacy-legacy<3.1.0,>=3.0.11 in c:\\users\\maks_\\appdata\\local\\programs\\python\\python39\\lib\\site-packages (from spacy<3.6.0,>=3.5.0->ru-core-news-sm==3.5.0) (3.0.12)\n",
      "Requirement already satisfied: srsly<3.0.0,>=2.4.3 in c:\\users\\maks_\\appdata\\local\\programs\\python\\python39\\lib\\site-packages (from spacy<3.6.0,>=3.5.0->ru-core-news-sm==3.5.0) (2.4.6)\n",
      "Requirement already satisfied: thinc<8.2.0,>=8.1.8 in c:\\users\\maks_\\appdata\\local\\programs\\python\\python39\\lib\\site-packages (from spacy<3.6.0,>=3.5.0->ru-core-news-sm==3.5.0) (8.1.9)\n",
      "Requirement already satisfied: murmurhash<1.1.0,>=0.28.0 in c:\\users\\maks_\\appdata\\local\\programs\\python\\python39\\lib\\site-packages (from spacy<3.6.0,>=3.5.0->ru-core-news-sm==3.5.0) (1.0.9)\n",
      "Requirement already satisfied: setuptools in c:\\users\\maks_\\appdata\\local\\programs\\python\\python39\\lib\\site-packages (from spacy<3.6.0,>=3.5.0->ru-core-news-sm==3.5.0) (58.1.0)\n",
      "Requirement already satisfied: wasabi<1.2.0,>=0.9.1 in c:\\users\\maks_\\appdata\\local\\programs\\python\\python39\\lib\\site-packages (from spacy<3.6.0,>=3.5.0->ru-core-news-sm==3.5.0) (0.10.1)\n",
      "Requirement already satisfied: packaging>=20.0 in c:\\users\\maks_\\appdata\\local\\programs\\python\\python39\\lib\\site-packages (from spacy<3.6.0,>=3.5.0->ru-core-news-sm==3.5.0) (23.1)\n",
      "Requirement already satisfied: cymem<2.1.0,>=2.0.2 in c:\\users\\maks_\\appdata\\local\\programs\\python\\python39\\lib\\site-packages (from spacy<3.6.0,>=3.5.0->ru-core-news-sm==3.5.0) (2.0.7)\n",
      "Requirement already satisfied: requests<3.0.0,>=2.13.0 in c:\\users\\maks_\\appdata\\local\\programs\\python\\python39\\lib\\site-packages (from spacy<3.6.0,>=3.5.0->ru-core-news-sm==3.5.0) (2.28.2)\n",
      "Requirement already satisfied: pathy>=0.10.0 in c:\\users\\maks_\\appdata\\local\\programs\\python\\python39\\lib\\site-packages (from spacy<3.6.0,>=3.5.0->ru-core-news-sm==3.5.0) (0.10.1)\n",
      "Requirement already satisfied: preshed<3.1.0,>=3.0.2 in c:\\users\\maks_\\appdata\\local\\programs\\python\\python39\\lib\\site-packages (from spacy<3.6.0,>=3.5.0->ru-core-news-sm==3.5.0) (3.0.8)\n",
      "Requirement already satisfied: jinja2 in c:\\users\\maks_\\appdata\\local\\programs\\python\\python39\\lib\\site-packages (from spacy<3.6.0,>=3.5.0->ru-core-news-sm==3.5.0) (3.1.2)\n",
      "Requirement already satisfied: smart-open<7.0.0,>=5.2.1 in c:\\users\\maks_\\appdata\\local\\programs\\python\\python39\\lib\\site-packages (from spacy<3.6.0,>=3.5.0->ru-core-news-sm==3.5.0) (6.3.0)\n",
      "Requirement already satisfied: langcodes<4.0.0,>=3.2.0 in c:\\users\\maks_\\appdata\\local\\programs\\python\\python39\\lib\\site-packages (from spacy<3.6.0,>=3.5.0->ru-core-news-sm==3.5.0) (3.3.0)\n",
      "Requirement already satisfied: typer<0.8.0,>=0.3.0 in c:\\users\\maks_\\appdata\\local\\programs\\python\\python39\\lib\\site-packages (from spacy<3.6.0,>=3.5.0->ru-core-news-sm==3.5.0) (0.7.0)\n",
      "Requirement already satisfied: pydantic!=1.8,!=1.8.1,<1.11.0,>=1.7.4 in c:\\users\\maks_\\appdata\\local\\programs\\python\\python39\\lib\\site-packages (from spacy<3.6.0,>=3.5.0->ru-core-news-sm==3.5.0) (1.9.2)\n",
      "Requirement already satisfied: spacy-loggers<2.0.0,>=1.0.0 in c:\\users\\maks_\\appdata\\local\\programs\\python\\python39\\lib\\site-packages (from spacy<3.6.0,>=3.5.0->ru-core-news-sm==3.5.0) (1.0.4)\n",
      "Requirement already satisfied: typing-extensions>=3.7.4.3 in c:\\users\\maks_\\appdata\\local\\programs\\python\\python39\\lib\\site-packages (from pydantic!=1.8,!=1.8.1,<1.11.0,>=1.7.4->spacy<3.6.0,>=3.5.0->ru-core-news-sm==3.5.0) (4.5.0)\n",
      "Requirement already satisfied: charset-normalizer<4,>=2 in c:\\users\\maks_\\appdata\\local\\programs\\python\\python39\\lib\\site-packages (from requests<3.0.0,>=2.13.0->spacy<3.6.0,>=3.5.0->ru-core-news-sm==3.5.0) (3.1.0)\n",
      "Requirement already satisfied: certifi>=2017.4.17 in c:\\users\\maks_\\appdata\\local\\programs\\python\\python39\\lib\\site-packages (from requests<3.0.0,>=2.13.0->spacy<3.6.0,>=3.5.0->ru-core-news-sm==3.5.0) (2022.12.7)\n",
      "Requirement already satisfied: urllib3<1.27,>=1.21.1 in c:\\users\\maks_\\appdata\\local\\programs\\python\\python39\\lib\\site-packages (from requests<3.0.0,>=2.13.0->spacy<3.6.0,>=3.5.0->ru-core-news-sm==3.5.0) (1.26.15)\n",
      "Requirement already satisfied: idna<4,>=2.5 in c:\\users\\maks_\\appdata\\local\\programs\\python\\python39\\lib\\site-packages (from requests<3.0.0,>=2.13.0->spacy<3.6.0,>=3.5.0->ru-core-news-sm==3.5.0) (3.4)\n",
      "Requirement already satisfied: blis<0.8.0,>=0.7.8 in c:\\users\\maks_\\appdata\\local\\programs\\python\\python39\\lib\\site-packages (from thinc<8.2.0,>=8.1.8->spacy<3.6.0,>=3.5.0->ru-core-news-sm==3.5.0) (0.7.9)\n",
      "Requirement already satisfied: confection<1.0.0,>=0.0.1 in c:\\users\\maks_\\appdata\\local\\programs\\python\\python39\\lib\\site-packages (from thinc<8.2.0,>=8.1.8->spacy<3.6.0,>=3.5.0->ru-core-news-sm==3.5.0) (0.0.4)\n",
      "Requirement already satisfied: colorama in c:\\users\\maks_\\appdata\\local\\programs\\python\\python39\\lib\\site-packages (from tqdm<5.0.0,>=4.38.0->spacy<3.6.0,>=3.5.0->ru-core-news-sm==3.5.0) (0.4.6)\n",
      "Requirement already satisfied: click<9.0.0,>=7.1.1 in c:\\users\\maks_\\appdata\\local\\programs\\python\\python39\\lib\\site-packages (from typer<0.8.0,>=0.3.0->spacy<3.6.0,>=3.5.0->ru-core-news-sm==3.5.0) (8.1.3)\n",
      "Requirement already satisfied: MarkupSafe>=2.0 in c:\\users\\maks_\\appdata\\local\\programs\\python\\python39\\lib\\site-packages (from jinja2->spacy<3.6.0,>=3.5.0->ru-core-news-sm==3.5.0) (2.1.2)\n",
      "[+] Download and installation successful\n",
      "You can now load the package via spacy.load('ru_core_news_sm')\n"
     ]
    },
    {
     "name": "stderr",
     "output_type": "stream",
     "text": [
      "WARNING: You are using pip version 22.0.4; however, version 23.1 is available.\n",
      "You should consider upgrading via the 'C:\\Users\\maks_\\AppData\\Local\\Programs\\Python\\Python39\\python.exe -m pip install --upgrade pip' command.\n"
     ]
    }
   ],
   "source": [
    "!python -m spacy download ru_core_news_sm"
   ]
  },
  {
   "cell_type": "code",
   "execution_count": 19,
   "id": "3da289d9",
   "metadata": {},
   "outputs": [
    {
     "data": {
      "text/plain": [
       "['tok2vec', 'morphologizer', 'parser', 'attribute_ruler', 'lemmatizer', 'ner']"
      ]
     },
     "execution_count": 19,
     "metadata": {},
     "output_type": "execute_result"
    }
   ],
   "source": [
    "nlp = spacy.load('ru_core_news_sm')\n",
    "ner = nlp.get_pipe(\"ner\")\n",
    "\n",
    "nlp.pipe_names"
   ]
  },
  {
   "cell_type": "code",
   "execution_count": 18,
   "id": "f2903bc3",
   "metadata": {},
   "outputs": [
    {
     "data": {
      "text/plain": [
       "('LOC', 'ORG', 'PER')"
      ]
     },
     "execution_count": 18,
     "metadata": {},
     "output_type": "execute_result"
    }
   ],
   "source": [
    "ner.labels"
   ]
  },
  {
   "cell_type": "code",
   "execution_count": 13,
   "id": "19165006",
   "metadata": {},
   "outputs": [
    {
     "name": "stdout",
     "output_type": "stream",
     "text": [
      "Париже 24 30 LOC\n",
      "Эйфелеву башню 41 55 LOC\n",
      "Владимиром 136 146 PER\n",
      "Сены 243 247 LOC\n",
      "Париж 296 301 LOC\n"
     ]
    }
   ],
   "source": [
    "ex_text = \"\"\"В 1999 году я побывал в Париже и посетил Эйфелеву башню. Там было много туристов, и я сделал много фотографий.\n",
    "Вечером мы с моим другом Владимиром пошли в ресторан и заказали французский сыр и красное вино. \n",
    "Потом мы прогулялись по набережной Сены и наслаждались красивым видом на город.\n",
    "Вообще, Париж очень интересный город, и я был рад, что смог побывать там.\"\"\"\n",
    "doc = nlp(ex_text)\n",
    "\n",
    "# The NER pipeline component tags entities in the doc with various attributes\n",
    "for ent in doc.ents:\n",
    "    print(ent.text, ent.start_char, ent.end_char, ent.label_)"
   ]
  },
  {
   "cell_type": "code",
   "execution_count": 14,
   "id": "c56b962f",
   "metadata": {},
   "outputs": [
    {
     "data": {
      "text/html": [
       "<span class=\"tex2jax_ignore\"><div class=\"entities\" style=\"line-height: 2.5; direction: ltr\">В 1999 году я побывал в \n",
       "<mark class=\"entity\" style=\"background: #ff9561; padding: 0.45em 0.6em; margin: 0 0.25em; line-height: 1; border-radius: 0.35em;\">\n",
       "    Париже\n",
       "    <span style=\"font-size: 0.8em; font-weight: bold; line-height: 1; border-radius: 0.35em; vertical-align: middle; margin-left: 0.5rem\">LOC</span>\n",
       "</mark>\n",
       " и посетил \n",
       "<mark class=\"entity\" style=\"background: #ff9561; padding: 0.45em 0.6em; margin: 0 0.25em; line-height: 1; border-radius: 0.35em;\">\n",
       "    Эйфелеву башню\n",
       "    <span style=\"font-size: 0.8em; font-weight: bold; line-height: 1; border-radius: 0.35em; vertical-align: middle; margin-left: 0.5rem\">LOC</span>\n",
       "</mark>\n",
       ". Там было много туристов, и я сделал много фотографий.</br>Вечером мы с моим другом \n",
       "<mark class=\"entity\" style=\"background: #ddd; padding: 0.45em 0.6em; margin: 0 0.25em; line-height: 1; border-radius: 0.35em;\">\n",
       "    Владимиром\n",
       "    <span style=\"font-size: 0.8em; font-weight: bold; line-height: 1; border-radius: 0.35em; vertical-align: middle; margin-left: 0.5rem\">PER</span>\n",
       "</mark>\n",
       " пошли в ресторан и заказали французский сыр и красное вино. </br>Потом мы прогулялись по набережной \n",
       "<mark class=\"entity\" style=\"background: #ff9561; padding: 0.45em 0.6em; margin: 0 0.25em; line-height: 1; border-radius: 0.35em;\">\n",
       "    Сены\n",
       "    <span style=\"font-size: 0.8em; font-weight: bold; line-height: 1; border-radius: 0.35em; vertical-align: middle; margin-left: 0.5rem\">LOC</span>\n",
       "</mark>\n",
       " и наслаждались красивым видом на город.</br>Вообще, \n",
       "<mark class=\"entity\" style=\"background: #ff9561; padding: 0.45em 0.6em; margin: 0 0.25em; line-height: 1; border-radius: 0.35em;\">\n",
       "    Париж\n",
       "    <span style=\"font-size: 0.8em; font-weight: bold; line-height: 1; border-radius: 0.35em; vertical-align: middle; margin-left: 0.5rem\">LOC</span>\n",
       "</mark>\n",
       " очень интересный город, и я был рад, что смог побывать там.</div></span>"
      ],
      "text/plain": [
       "<IPython.core.display.HTML object>"
      ]
     },
     "metadata": {},
     "output_type": "display_data"
    }
   ],
   "source": [
    "# Use displacy to visualize entities\n",
    "displacy.render(doc, style='ent', jupyter=True)"
   ]
  },
  {
   "cell_type": "code",
   "execution_count": 20,
   "id": "87fcc478",
   "metadata": {},
   "outputs": [
    {
     "name": "stdout",
     "output_type": "stream",
     "text": [
      "('Извещение о проведении открытого конкурса в электронной форме для закупки №0328300032822000806 Общая информация Номер извещения 0328300032822000806 Наименование объекта закупки Поставка продуктов питания Способ определения поставщика (подрядчика, исполнителя) Открытый конкурс в бль Порядок внесения денежных средств в качестве обеспечения заявки на участие в закупке, а также условия гарантии Обеспечение заявки на участие в закупке может предоставляться участником закупки в виде денежных средств или независимой гарантии, предусмотренной ст. 45 Федерального закона № 44-ФЗ. Выбор способа обеспечения осуществляется участником закупки самостоятельно. Срок действия независимой гарантии должен составлять не менее месяца с даты окончания срока подачи заявок. Обеспечение заявки на участие в закупке предоставляется в соответствии с ч. 5 ст. 44 Федерального закона № 44-ФЗ. Условия независимой гарантии в соответствии со ст. 45 Федерального закона № 44-ФЗ. Реквизиты счета в соответствии с п.16 ч. 1 ст. 42 Закона № 44-ФЗ \"Номер расчётного счёта\" 00000000000000000000 \"Номер лицевого счёта\" См. прилагаемые документы \"БИК\" 000000000 \"Наименование кредитной организации\" \"Номер корреспондентского счета\" Обеспечение исполнения контракта Требуется обеспечение исполнения контракта Размер обеспечения исполнения контракта 6593.25 Российский рубль Порядок обеспечения исполнения контракта, требования к обеспечению Исполнение контракта, гарантийные обязательства могут обеспечиваться предоставлением независимой гарантии, соответствующей требованиям ст. 45 Федерального закона № 44-ФЗ, или внесением денежных средств на указанный заказчиком счет, на котором в соответствии с законодательством Российской Федерации учитываются операции со средствами, поступающими заказчику. Способ обеспечения исполнения контракта, гарантийных обязательств, срок действия независимой гарантии определяются в соответствии с требованиями Федерального закона № 44-ФЗ участником закупки, с которым заключается контракт, самостоятельно. При этом срок действия независимой гарантии должен превышать предусмотренный контрактом срок исполнения обязательств, которые должны быть обеспечены такой независимой гарантией, не менее чем на один месяц, в том числе в случае его изменения в соответствии со ст. 95 Федерального закона № 44-ФЗ. Порядок предоставления и требования о Информация и документы, подтверждающие соответствие участников закупки дополнительным требованиям: 1) исполненный договор; 2) акт приемки оказанных услуг и (или) поставленных товаров, подтверждающий цену оказанных услуг и (или) поставленных товаров 4', {'entities': [(1279, 1343, 'обеспечение исполнения контракта')]})\n"
     ]
    }
   ],
   "source": [
    "formatted_data = []\n",
    "\n",
    "for index, row in train_df.iterrows():\n",
    "    text = row['text']\n",
    "    entities = []\n",
    "    for i in range(len(row['extracted_part']['text'])):\n",
    "      start = row['extracted_part']['answer_start'][0]\n",
    "      end = row['extracted_part']['answer_end'][0]\n",
    "      label = row['label']\n",
    "      entities.append((start, end, label))\n",
    "    formatted_data.append((text, {\"entities\": entities}))\n",
    "\n",
    "print(formatted_data[0])"
   ]
  },
  {
   "cell_type": "code",
   "execution_count": 21,
   "id": "2ee5ba2b",
   "metadata": {},
   "outputs": [],
   "source": [
    "for _, annotations in formatted_data:\n",
    "  for ent in annotations.get(\"entities\"):\n",
    "    ner.add_label(ent[2])"
   ]
  },
  {
   "cell_type": "code",
   "execution_count": 22,
   "id": "0db70705",
   "metadata": {},
   "outputs": [
    {
     "data": {
      "text/plain": [
       "('LOC',\n",
       " 'ORG',\n",
       " 'PER',\n",
       " 'обеспечение гарантийных обязательств',\n",
       " 'обеспечение исполнения контракта')"
      ]
     },
     "execution_count": 22,
     "metadata": {},
     "output_type": "execute_result"
    }
   ],
   "source": [
    "ner.labels"
   ]
  },
  {
   "cell_type": "code",
   "execution_count": 24,
   "id": "61fc21ae",
   "metadata": {},
   "outputs": [
    {
     "data": {
      "text/plain": [
       "['B-ORG',\n",
       " 'B-PER',\n",
       " 'B-LOC',\n",
       " 'I-ORG',\n",
       " 'I-PER',\n",
       " 'I-LOC',\n",
       " 'L-ORG',\n",
       " 'L-PER',\n",
       " 'L-LOC',\n",
       " 'U-ORG',\n",
       " 'U-PER',\n",
       " 'U-LOC',\n",
       " 'O',\n",
       " 'B-обеспечение исполнения контракта',\n",
       " 'I-обеспечение исполнения контракта',\n",
       " 'L-обеспечение исполнения контракта',\n",
       " 'U-обеспечение исполнения контракта',\n",
       " 'B-обеспечение гарантийных обязательств',\n",
       " 'I-обеспечение гарантийных обязательств',\n",
       " 'L-обеспечение гарантийных обязательств',\n",
       " 'U-обеспечение гарантийных обязательств']"
      ]
     },
     "execution_count": 24,
     "metadata": {},
     "output_type": "execute_result"
    }
   ],
   "source": [
    "move_names = list(ner.move_names)\n",
    "move_names"
   ]
  },
  {
   "cell_type": "markdown",
   "id": "aba489c2",
   "metadata": {},
   "source": [
    "# Train a custom model"
   ]
  },
  {
   "cell_type": "code",
   "execution_count": 23,
   "id": "50c07ae0",
   "metadata": {},
   "outputs": [],
   "source": [
    "iterations = 24\n",
    "\n",
    "loss_scores = []\n",
    "accuracy_scores = []\n",
    "precision_scores = []\n",
    "recall_scores = []\n",
    "f1_scores = []\n",
    "data = []"
   ]
  },
  {
   "cell_type": "code",
   "execution_count": null,
   "id": "24f4f77c",
   "metadata": {},
   "outputs": [],
   "source": [
    "%%time\n",
    "\n",
    "import random\n",
    "from spacy.util import minibatch, compounding\n",
    "from pathlib import Path\n",
    "from spacy.training.example import Example\n",
    "from tqdm import tqdm\n",
    "from spacy.scorer import Scorer\n",
    "import warnings\n",
    "\n",
    "pipe_exceptions = [\"ner\", \"trf_wordpiecer\", \"trf_tok2vec\"]\n",
    "unaffected_pipes = [pipe for pipe in nlp.pipe_names if pipe not in pipe_exceptions]\n",
    "\n",
    "# TRAINING THE MODEL\n",
    "with nlp.disable_pipes(*unaffected_pipes):\n",
    "  warnings.filterwarnings(\"ignore\", category=UserWarning, module='spacy') \n",
    "  scorer = Scorer()\n",
    "  # Training for 30 iterations\n",
    "  for iteration in range(1, iterations):\n",
    "    # shuffling examples before every iteration\n",
    "    examples = []\n",
    "    random.shuffle(formatted_data)\n",
    "    losses = {}\n",
    "    # batch up the examples using spaCy's minibatch\n",
    "    batches = minibatch(formatted_data, size=compounding(4.0, 32.0, 1.001))\n",
    "    progress_bar = tqdm(total=len(formatted_data), desc=f\"Iteration {iteration}\", leave=False)\n",
    "    for batch in batches:\n",
    "      for text, annotations in batch:\n",
    "        doc = nlp.make_doc(text)\n",
    "        predict = nlp(text)\n",
    "        ex = Example.from_dict(predict, annotations)\n",
    "        example = Example.from_dict(doc, annotations)\n",
    "        ex.predicted = nlp(str(ex.predicted))\n",
    "        examples.append(ex)\n",
    "        nlp.update([example], losses=losses, drop=0.3)\n",
    "        tqdm._instances.clear()\n",
    "        progress_bar.update(1)\n",
    "\n",
    "    metrics = scorer.score_spans(examples, \"ents\")\n",
    "    print(metrics)\n",
    "    loss_scores.append(losses['ner'])\n",
    "    precision_scores.append(metrics['ents_p'])\n",
    "    recall_scores.append(metrics['ents_r'])\n",
    "    f1_scores.append(metrics['ents_f'])\n",
    "    data.append([iteration, losses['ner'], metrics['ents_p'], metrics['ents_r'], metrics['ents_f']])\n",
    "    print('  Losses:', losses['ner'])\n",
    "    print()\n",
    "    examples = []"
   ]
  },
  {
   "cell_type": "code",
   "execution_count": null,
   "id": "f174cf55",
   "metadata": {},
   "outputs": [],
   "source": []
  }
 ],
 "metadata": {
  "kernelspec": {
   "display_name": "Python 3 (ipykernel)",
   "language": "python",
   "name": "python3"
  },
  "language_info": {
   "codemirror_mode": {
    "name": "ipython",
    "version": 3
   },
   "file_extension": ".py",
   "mimetype": "text/x-python",
   "name": "python",
   "nbconvert_exporter": "python",
   "pygments_lexer": "ipython3",
   "version": "3.9.13"
  }
 },
 "nbformat": 4,
 "nbformat_minor": 5
}
