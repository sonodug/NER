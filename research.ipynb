{
 "cells": [
  {
   "cell_type": "markdown",
   "id": "ee88d9ee",
   "metadata": {},
   "source": [
    "# Conducting research to solve the NLP test task"
   ]
  },
  {
   "cell_type": "markdown",
   "id": "1711c884",
   "metadata": {},
   "source": [
    "In this notebook we prepare the Named entity recognition (NER) model for use."
   ]
  },
  {
   "cell_type": "markdown",
   "id": "4ba1c48e",
   "metadata": {},
   "source": [
    "# Base"
   ]
  },
  {
   "cell_type": "markdown",
   "id": "7e49c49a",
   "metadata": {},
   "source": [
    "The task of NER is to highlight the spans of entities in the text.\n",
    "\n",
    "The scenario of this task is to identify in the text 2 entities: `обеспечение исполнения контракта` или `обеспечение гарантийных обязательств`."
   ]
  },
  {
   "cell_type": "markdown",
   "id": "bea9ac7e",
   "metadata": {},
   "source": [
    "## Example"
   ]
  },
  {
   "cell_type": "markdown",
   "id": "311449ff",
   "metadata": {},
   "source": [
    "<div>\n",
    "<img src=\"images/ner_example.jpg\" width=\"800\"/>\n",
    "</div>"
   ]
  },
  {
   "cell_type": "markdown",
   "id": "3b5c9b97",
   "metadata": {},
   "source": [
    "The solution of the problem was reduced to choosing the most suitable model (`BERT`, `BERT + LSTM`, `spaCy` or another).\n",
    "\n",
    "As a result, `spaCy` was chosen without pretrained models."
   ]
  },
  {
   "cell_type": "markdown",
   "id": "7b7768e4",
   "metadata": {},
   "source": [
    "## Pipeline"
   ]
  },
  {
   "cell_type": "markdown",
   "id": "652eb86d",
   "metadata": {},
   "source": [
    "![pipeline](images/spacy_pipeline.png)"
   ]
  },
  {
   "cell_type": "markdown",
   "id": "39a9e458",
   "metadata": {},
   "source": [
    "# Setup"
   ]
  },
  {
   "cell_type": "code",
   "execution_count": 1,
   "id": "8c4aeeab",
   "metadata": {},
   "outputs": [
    {
     "name": "stdout",
     "output_type": "stream",
     "text": [
      "Requirement already satisfied: pip==22.0.4 in c:\\users\\maks_\\appdata\\local\\programs\\python\\python39\\lib\\site-packages (from -r requirements.txt (line 1)) (22.0.4)Note: you may need to restart the kernel to use updated packages.\n",
      "\n",
      "Requirement already satisfied: tornado==6.3.1 in c:\\users\\maks_\\appdata\\local\\programs\\python\\python39\\lib\\site-packages (from -r requirements.txt (line 2)) (6.3.1)\n",
      "Requirement already satisfied: numpy==1.24.2 in c:\\users\\maks_\\appdata\\local\\programs\\python\\python39\\lib\\site-packages (from -r requirements.txt (line 3)) (1.24.2)\n",
      "Requirement already satisfied: blis==0.7.9 in c:\\users\\maks_\\appdata\\local\\programs\\python\\python39\\lib\\site-packages (from -r requirements.txt (line 4)) (0.7.9)\n",
      "Requirement already satisfied: requests==2.28.2 in c:\\users\\maks_\\appdata\\local\\programs\\python\\python39\\lib\\site-packages (from -r requirements.txt (line 5)) (2.28.2)\n",
      "Requirement already satisfied: colorama==0.4.6 in c:\\users\\maks_\\appdata\\local\\programs\\python\\python39\\lib\\site-packages (from -r requirements.txt (line 6)) (0.4.6)\n",
      "Requirement already satisfied: ipython==8.12.0 in c:\\users\\maks_\\appdata\\local\\programs\\python\\python39\\lib\\site-packages (from -r requirements.txt (line 7)) (8.12.0)\n",
      "Requirement already satisfied: notebook==6.5.4 in c:\\users\\maks_\\appdata\\local\\programs\\python\\python39\\lib\\site-packages (from -r requirements.txt (line 8)) (6.5.4)\n",
      "Requirement already satisfied: cymem==2.0.7 in c:\\users\\maks_\\appdata\\local\\programs\\python\\python39\\lib\\site-packages (from -r requirements.txt (line 9)) (2.0.7)\n",
      "Requirement already satisfied: setuptools==58.1.0 in c:\\users\\maks_\\appdata\\local\\programs\\python\\python39\\lib\\site-packages (from -r requirements.txt (line 10)) (58.1.0)\n",
      "Requirement already satisfied: cffi==1.15.1 in c:\\users\\maks_\\appdata\\local\\programs\\python\\python39\\lib\\site-packages (from -r requirements.txt (line 11)) (1.15.1)\n",
      "Requirement already satisfied: pathy==0.10.1 in c:\\users\\maks_\\appdata\\local\\programs\\python\\python39\\lib\\site-packages (from -r requirements.txt (line 12)) (0.10.1)\n",
      "Requirement already satisfied: typer==0.7.0 in c:\\users\\maks_\\appdata\\local\\programs\\python\\python39\\lib\\site-packages (from -r requirements.txt (line 13)) (0.7.0)\n",
      "Requirement already satisfied: spacy==3.5.2 in c:\\users\\maks_\\appdata\\local\\programs\\python\\python39\\lib\\site-packages (from -r requirements.txt (line 14)) (3.5.2)\n",
      "Requirement already satisfied: thinc==8.1.9 in c:\\users\\maks_\\appdata\\local\\programs\\python\\python39\\lib\\site-packages (from -r requirements.txt (line 15)) (8.1.9)\n",
      "Requirement already satisfied: attrs==23.1.0 in c:\\users\\maks_\\appdata\\local\\programs\\python\\python39\\lib\\site-packages (from -r requirements.txt (line 16)) (23.1.0)\n",
      "Requirement already satisfied: srsly==2.4.6 in c:\\users\\maks_\\appdata\\local\\programs\\python\\python39\\lib\\site-packages (from -r requirements.txt (line 17)) (2.4.6)\n",
      "Requirement already satisfied: wasabi==0.10.1 in c:\\users\\maks_\\appdata\\local\\programs\\python\\python39\\lib\\site-packages (from -r requirements.txt (line 18)) (0.10.1)\n",
      "Requirement already satisfied: click==8.1.3 in c:\\users\\maks_\\appdata\\local\\programs\\python\\python39\\lib\\site-packages (from -r requirements.txt (line 19)) (8.1.3)\n",
      "Requirement already satisfied: tqdm==4.65.0 in c:\\users\\maks_\\appdata\\local\\programs\\python\\python39\\lib\\site-packages (from -r requirements.txt (line 20)) (4.65.0)\n",
      "Requirement already satisfied: catalogue==2.0.8 in c:\\users\\maks_\\appdata\\local\\programs\\python\\python39\\lib\\site-packages (from -r requirements.txt (line 21)) (2.0.8)\n",
      "Requirement already satisfied: Jinja2==3.1.2 in c:\\users\\maks_\\appdata\\local\\programs\\python\\python39\\lib\\site-packages (from -r requirements.txt (line 22)) (3.1.2)\n",
      "Requirement already satisfied: pydantic==1.9.2 in c:\\users\\maks_\\appdata\\local\\programs\\python\\python39\\lib\\site-packages (from -r requirements.txt (line 23)) (1.9.2)\n",
      "Requirement already satisfied: packaging==23.1 in c:\\users\\maks_\\appdata\\local\\programs\\python\\python39\\lib\\site-packages (from -r requirements.txt (line 24)) (23.1)\n",
      "Requirement already satisfied: langcodes==3.3.0 in c:\\users\\maks_\\appdata\\local\\programs\\python\\python39\\lib\\site-packages (from -r requirements.txt (line 25)) (3.3.0)\n",
      "Requirement already satisfied: preshed==3.0.8 in c:\\users\\maks_\\appdata\\local\\programs\\python\\python39\\lib\\site-packages (from -r requirements.txt (line 26)) (3.0.8)\n",
      "Requirement already satisfied: psutil==5.9.5 in c:\\users\\maks_\\appdata\\local\\programs\\python\\python39\\lib\\site-packages (from -r requirements.txt (line 27)) (5.9.5)\n",
      "Requirement already satisfied: murmurhash==1.0.9 in c:\\users\\maks_\\appdata\\local\\programs\\python\\python39\\lib\\site-packages (from -r requirements.txt (line 28)) (1.0.9)\n",
      "Requirement already satisfied: confection==0.0.4 in c:\\users\\maks_\\appdata\\local\\programs\\python\\python39\\lib\\site-packages (from -r requirements.txt (line 29)) (0.0.4)\n",
      "Requirement already satisfied: MarkupSafe==2.1.2 in c:\\users\\maks_\\appdata\\local\\programs\\python\\python39\\lib\\site-packages (from -r requirements.txt (line 30)) (2.1.2)\n",
      "Requirement already satisfied: certifi==2022.12.7 in c:\\users\\maks_\\appdata\\local\\programs\\python\\python39\\lib\\site-packages (from -r requirements.txt (line 31)) (2022.12.7)\n",
      "Requirement already satisfied: six==1.16.0 in c:\\users\\maks_\\appdata\\local\\programs\\python\\python39\\lib\\site-packages (from -r requirements.txt (line 32)) (1.16.0)\n",
      "Requirement already satisfied: decorator==5.1.1 in c:\\users\\maks_\\appdata\\local\\programs\\python\\python39\\lib\\site-packages (from -r requirements.txt (line 33)) (5.1.1)\n",
      "Requirement already satisfied: idna==3.4 in c:\\users\\maks_\\appdata\\local\\programs\\python\\python39\\lib\\site-packages (from -r requirements.txt (line 34)) (3.4)\n",
      "Requirement already satisfied: urllib3==1.26.15 in c:\\users\\maks_\\appdata\\local\\programs\\python\\python39\\lib\\site-packages (from -r requirements.txt (line 35)) (1.26.15)\n",
      "Requirement already satisfied: zipp==3.15.0 in c:\\users\\maks_\\appdata\\local\\programs\\python\\python39\\lib\\site-packages (from -r requirements.txt (line 36)) (3.15.0)\n",
      "Requirement already satisfied: pandas==1.5.3 in c:\\users\\maks_\\appdata\\local\\programs\\python\\python39\\lib\\site-packages (from -r requirements.txt (line 37)) (1.5.3)\n",
      "Requirement already satisfied: tabulate==0.9.0 in c:\\users\\maks_\\appdata\\local\\programs\\python\\python39\\lib\\site-packages (from -r requirements.txt (line 38)) (0.9.0)\n",
      "Requirement already satisfied: matplotlib==3.7.1 in c:\\users\\maks_\\appdata\\local\\programs\\python\\python39\\lib\\site-packages (from -r requirements.txt (line 39)) (3.7.1)\n",
      "Requirement already satisfied: charset-normalizer<4,>=2 in c:\\users\\maks_\\appdata\\local\\programs\\python\\python39\\lib\\site-packages (from requests==2.28.2->-r requirements.txt (line 5)) (3.1.0)\n",
      "Requirement already satisfied: pickleshare in c:\\users\\maks_\\appdata\\local\\programs\\python\\python39\\lib\\site-packages (from ipython==8.12.0->-r requirements.txt (line 7)) (0.7.5)\n",
      "Requirement already satisfied: jedi>=0.16 in c:\\users\\maks_\\appdata\\local\\programs\\python\\python39\\lib\\site-packages (from ipython==8.12.0->-r requirements.txt (line 7)) (0.18.2)\n",
      "Requirement already satisfied: pygments>=2.4.0 in c:\\users\\maks_\\appdata\\local\\programs\\python\\python39\\lib\\site-packages (from ipython==8.12.0->-r requirements.txt (line 7)) (2.15.1)\n",
      "Requirement already satisfied: typing-extensions in c:\\users\\maks_\\appdata\\local\\programs\\python\\python39\\lib\\site-packages (from ipython==8.12.0->-r requirements.txt (line 7)) (4.5.0)\n",
      "Requirement already satisfied: prompt-toolkit!=3.0.37,<3.1.0,>=3.0.30 in c:\\users\\maks_\\appdata\\local\\programs\\python\\python39\\lib\\site-packages (from ipython==8.12.0->-r requirements.txt (line 7)) (3.0.38)\n",
      "Requirement already satisfied: stack-data in c:\\users\\maks_\\appdata\\local\\programs\\python\\python39\\lib\\site-packages (from ipython==8.12.0->-r requirements.txt (line 7)) (0.6.2)\n",
      "Requirement already satisfied: traitlets>=5 in c:\\users\\maks_\\appdata\\local\\programs\\python\\python39\\lib\\site-packages (from ipython==8.12.0->-r requirements.txt (line 7)) (5.9.0)\n",
      "Requirement already satisfied: matplotlib-inline in c:\\users\\maks_\\appdata\\local\\programs\\python\\python39\\lib\\site-packages (from ipython==8.12.0->-r requirements.txt (line 7)) (0.1.6)\n",
      "Requirement already satisfied: backcall in c:\\users\\maks_\\appdata\\local\\programs\\python\\python39\\lib\\site-packages (from ipython==8.12.0->-r requirements.txt (line 7)) (0.2.0)\n",
      "Requirement already satisfied: ipython-genutils in c:\\users\\maks_\\appdata\\local\\programs\\python\\python39\\lib\\site-packages (from notebook==6.5.4->-r requirements.txt (line 8)) (0.2.0)\n",
      "Requirement already satisfied: pyzmq>=17 in c:\\users\\maks_\\appdata\\local\\programs\\python\\python39\\lib\\site-packages (from notebook==6.5.4->-r requirements.txt (line 8)) (25.0.2)\n",
      "Requirement already satisfied: jupyter-core>=4.6.1 in c:\\users\\maks_\\appdata\\local\\programs\\python\\python39\\lib\\site-packages (from notebook==6.5.4->-r requirements.txt (line 8)) (5.3.0)\n",
      "Requirement already satisfied: Send2Trash>=1.8.0 in c:\\users\\maks_\\appdata\\local\\programs\\python\\python39\\lib\\site-packages (from notebook==6.5.4->-r requirements.txt (line 8)) (1.8.0)\n",
      "Requirement already satisfied: prometheus-client in c:\\users\\maks_\\appdata\\local\\programs\\python\\python39\\lib\\site-packages (from notebook==6.5.4->-r requirements.txt (line 8)) (0.16.0)\n",
      "Requirement already satisfied: nbclassic>=0.4.7 in c:\\users\\maks_\\appdata\\local\\programs\\python\\python39\\lib\\site-packages (from notebook==6.5.4->-r requirements.txt (line 8)) (0.5.5)\n",
      "Requirement already satisfied: ipykernel in c:\\users\\maks_\\appdata\\local\\programs\\python\\python39\\lib\\site-packages (from notebook==6.5.4->-r requirements.txt (line 8)) (6.22.0)\n",
      "Requirement already satisfied: jupyter-client>=5.3.4 in c:\\users\\maks_\\appdata\\local\\programs\\python\\python39\\lib\\site-packages (from notebook==6.5.4->-r requirements.txt (line 8)) (8.2.0)\n",
      "Requirement already satisfied: terminado>=0.8.3 in c:\\users\\maks_\\appdata\\local\\programs\\python\\python39\\lib\\site-packages (from notebook==6.5.4->-r requirements.txt (line 8)) (0.17.1)\n",
      "Requirement already satisfied: argon2-cffi in c:\\users\\maks_\\appdata\\local\\programs\\python\\python39\\lib\\site-packages (from notebook==6.5.4->-r requirements.txt (line 8)) (21.3.0)\n",
      "Requirement already satisfied: nest-asyncio>=1.5 in c:\\users\\maks_\\appdata\\local\\programs\\python\\python39\\lib\\site-packages (from notebook==6.5.4->-r requirements.txt (line 8)) (1.5.6)\n",
      "Requirement already satisfied: nbformat in c:\\users\\maks_\\appdata\\local\\programs\\python\\python39\\lib\\site-packages (from notebook==6.5.4->-r requirements.txt (line 8)) (5.8.0)\n",
      "Requirement already satisfied: nbconvert>=5 in c:\\users\\maks_\\appdata\\local\\programs\\python\\python39\\lib\\site-packages (from notebook==6.5.4->-r requirements.txt (line 8)) (7.3.1)\n",
      "Requirement already satisfied: pycparser in c:\\users\\maks_\\appdata\\local\\programs\\python\\python39\\lib\\site-packages (from cffi==1.15.1->-r requirements.txt (line 11)) (2.21)\n",
      "Requirement already satisfied: smart-open<7.0.0,>=5.2.1 in c:\\users\\maks_\\appdata\\local\\programs\\python\\python39\\lib\\site-packages (from pathy==0.10.1->-r requirements.txt (line 12)) (6.3.0)\n",
      "Requirement already satisfied: spacy-loggers<2.0.0,>=1.0.0 in c:\\users\\maks_\\appdata\\local\\programs\\python\\python39\\lib\\site-packages (from spacy==3.5.2->-r requirements.txt (line 14)) (1.0.4)\n",
      "Requirement already satisfied: spacy-legacy<3.1.0,>=3.0.11 in c:\\users\\maks_\\appdata\\local\\programs\\python\\python39\\lib\\site-packages (from spacy==3.5.2->-r requirements.txt (line 14)) (3.0.12)\n",
      "Requirement already satisfied: python-dateutil>=2.8.1 in c:\\users\\maks_\\appdata\\local\\programs\\python\\python39\\lib\\site-packages (from pandas==1.5.3->-r requirements.txt (line 37)) (2.8.2)\n",
      "Requirement already satisfied: pytz>=2020.1 in c:\\users\\maks_\\appdata\\local\\programs\\python\\python39\\lib\\site-packages (from pandas==1.5.3->-r requirements.txt (line 37)) (2023.3)\n",
      "Requirement already satisfied: importlib-resources>=3.2.0 in c:\\users\\maks_\\appdata\\local\\programs\\python\\python39\\lib\\site-packages (from matplotlib==3.7.1->-r requirements.txt (line 39)) (5.12.0)\n",
      "Requirement already satisfied: fonttools>=4.22.0 in c:\\users\\maks_\\appdata\\local\\programs\\python\\python39\\lib\\site-packages (from matplotlib==3.7.1->-r requirements.txt (line 39)) (4.39.3)\n",
      "Requirement already satisfied: kiwisolver>=1.0.1 in c:\\users\\maks_\\appdata\\local\\programs\\python\\python39\\lib\\site-packages (from matplotlib==3.7.1->-r requirements.txt (line 39)) (1.4.4)\n",
      "Requirement already satisfied: pillow>=6.2.0 in c:\\users\\maks_\\appdata\\local\\programs\\python\\python39\\lib\\site-packages (from matplotlib==3.7.1->-r requirements.txt (line 39)) (9.5.0)\n",
      "Requirement already satisfied: contourpy>=1.0.1 in c:\\users\\maks_\\appdata\\local\\programs\\python\\python39\\lib\\site-packages (from matplotlib==3.7.1->-r requirements.txt (line 39)) (1.0.7)\n",
      "Requirement already satisfied: pyparsing>=2.3.1 in c:\\users\\maks_\\appdata\\local\\programs\\python\\python39\\lib\\site-packages (from matplotlib==3.7.1->-r requirements.txt (line 39)) (3.0.9)\n",
      "Requirement already satisfied: cycler>=0.10 in c:\\users\\maks_\\appdata\\local\\programs\\python\\python39\\lib\\site-packages (from matplotlib==3.7.1->-r requirements.txt (line 39)) (0.11.0)\n",
      "Requirement already satisfied: parso<0.9.0,>=0.8.0 in c:\\users\\maks_\\appdata\\local\\programs\\python\\python39\\lib\\site-packages (from jedi>=0.16->ipython==8.12.0->-r requirements.txt (line 7)) (0.8.3)\n",
      "Requirement already satisfied: importlib-metadata>=4.8.3 in c:\\users\\maks_\\appdata\\local\\programs\\python\\python39\\lib\\site-packages (from jupyter-client>=5.3.4->notebook==6.5.4->-r requirements.txt (line 8)) (6.5.1)\n",
      "Requirement already satisfied: pywin32>=300 in c:\\users\\maks_\\appdata\\local\\programs\\python\\python39\\lib\\site-packages (from jupyter-core>=4.6.1->notebook==6.5.4->-r requirements.txt (line 8)) (306)\n",
      "Requirement already satisfied: platformdirs>=2.5 in c:\\users\\maks_\\appdata\\local\\programs\\python\\python39\\lib\\site-packages (from jupyter-core>=4.6.1->notebook==6.5.4->-r requirements.txt (line 8)) (3.2.0)\n",
      "Requirement already satisfied: notebook-shim>=0.1.0 in c:\\users\\maks_\\appdata\\local\\programs\\python\\python39\\lib\\site-packages (from nbclassic>=0.4.7->notebook==6.5.4->-r requirements.txt (line 8)) (0.2.2)\n",
      "Requirement already satisfied: jupyter-server>=1.8 in c:\\users\\maks_\\appdata\\local\\programs\\python\\python39\\lib\\site-packages (from nbclassic>=0.4.7->notebook==6.5.4->-r requirements.txt (line 8)) (2.5.0)\n",
      "Requirement already satisfied: defusedxml in c:\\users\\maks_\\appdata\\local\\programs\\python\\python39\\lib\\site-packages (from nbconvert>=5->notebook==6.5.4->-r requirements.txt (line 8)) (0.7.1)\n",
      "Requirement already satisfied: tinycss2 in c:\\users\\maks_\\appdata\\local\\programs\\python\\python39\\lib\\site-packages (from nbconvert>=5->notebook==6.5.4->-r requirements.txt (line 8)) (1.2.1)\n",
      "Requirement already satisfied: nbclient>=0.5.0 in c:\\users\\maks_\\appdata\\local\\programs\\python\\python39\\lib\\site-packages (from nbconvert>=5->notebook==6.5.4->-r requirements.txt (line 8)) (0.7.3)\n",
      "Requirement already satisfied: mistune<3,>=2.0.3 in c:\\users\\maks_\\appdata\\local\\programs\\python\\python39\\lib\\site-packages (from nbconvert>=5->notebook==6.5.4->-r requirements.txt (line 8)) (2.0.5)\n",
      "Requirement already satisfied: jupyterlab-pygments in c:\\users\\maks_\\appdata\\local\\programs\\python\\python39\\lib\\site-packages (from nbconvert>=5->notebook==6.5.4->-r requirements.txt (line 8)) (0.2.2)\n",
      "Requirement already satisfied: pandocfilters>=1.4.1 in c:\\users\\maks_\\appdata\\local\\programs\\python\\python39\\lib\\site-packages (from nbconvert>=5->notebook==6.5.4->-r requirements.txt (line 8)) (1.5.0)\n",
      "Requirement already satisfied: bleach in c:\\users\\maks_\\appdata\\local\\programs\\python\\python39\\lib\\site-packages (from nbconvert>=5->notebook==6.5.4->-r requirements.txt (line 8)) (6.0.0)\n",
      "Requirement already satisfied: beautifulsoup4 in c:\\users\\maks_\\appdata\\local\\programs\\python\\python39\\lib\\site-packages (from nbconvert>=5->notebook==6.5.4->-r requirements.txt (line 8)) (4.12.2)\n",
      "Requirement already satisfied: jsonschema>=2.6 in c:\\users\\maks_\\appdata\\local\\programs\\python\\python39\\lib\\site-packages (from nbformat->notebook==6.5.4->-r requirements.txt (line 8)) (4.17.3)\n",
      "Requirement already satisfied: fastjsonschema in c:\\users\\maks_\\appdata\\local\\programs\\python\\python39\\lib\\site-packages (from nbformat->notebook==6.5.4->-r requirements.txt (line 8)) (2.16.3)\n",
      "Requirement already satisfied: wcwidth in c:\\users\\maks_\\appdata\\local\\programs\\python\\python39\\lib\\site-packages (from prompt-toolkit!=3.0.37,<3.1.0,>=3.0.30->ipython==8.12.0->-r requirements.txt (line 7)) (0.2.6)\n",
      "Requirement already satisfied: pywinpty>=1.1.0 in c:\\users\\maks_\\appdata\\local\\programs\\python\\python39\\lib\\site-packages (from terminado>=0.8.3->notebook==6.5.4->-r requirements.txt (line 8)) (2.0.10)\n",
      "Requirement already satisfied: argon2-cffi-bindings in c:\\users\\maks_\\appdata\\local\\programs\\python\\python39\\lib\\site-packages (from argon2-cffi->notebook==6.5.4->-r requirements.txt (line 8)) (21.2.0)\n",
      "Requirement already satisfied: debugpy>=1.6.5 in c:\\users\\maks_\\appdata\\local\\programs\\python\\python39\\lib\\site-packages (from ipykernel->notebook==6.5.4->-r requirements.txt (line 8)) (1.6.7)\n",
      "Requirement already satisfied: comm>=0.1.1 in c:\\users\\maks_\\appdata\\local\\programs\\python\\python39\\lib\\site-packages (from ipykernel->notebook==6.5.4->-r requirements.txt (line 8)) (0.1.3)\n",
      "Requirement already satisfied: pure-eval in c:\\users\\maks_\\appdata\\local\\programs\\python\\python39\\lib\\site-packages (from stack-data->ipython==8.12.0->-r requirements.txt (line 7)) (0.2.2)\n",
      "Requirement already satisfied: executing>=1.2.0 in c:\\users\\maks_\\appdata\\local\\programs\\python\\python39\\lib\\site-packages (from stack-data->ipython==8.12.0->-r requirements.txt (line 7)) (1.2.0)\n",
      "Requirement already satisfied: asttokens>=2.1.0 in c:\\users\\maks_\\appdata\\local\\programs\\python\\python39\\lib\\site-packages (from stack-data->ipython==8.12.0->-r requirements.txt (line 7)) (2.2.1)\n",
      "Requirement already satisfied: pyrsistent!=0.17.0,!=0.17.1,!=0.17.2,>=0.14.0 in c:\\users\\maks_\\appdata\\local\\programs\\python\\python39\\lib\\site-packages (from jsonschema>=2.6->nbformat->notebook==6.5.4->-r requirements.txt (line 8)) (0.19.3)\n",
      "Requirement already satisfied: jupyter-server-terminals in c:\\users\\maks_\\appdata\\local\\programs\\python\\python39\\lib\\site-packages (from jupyter-server>=1.8->nbclassic>=0.4.7->notebook==6.5.4->-r requirements.txt (line 8)) (0.4.4)\n",
      "Requirement already satisfied: anyio>=3.1.0 in c:\\users\\maks_\\appdata\\local\\programs\\python\\python39\\lib\\site-packages (from jupyter-server>=1.8->nbclassic>=0.4.7->notebook==6.5.4->-r requirements.txt (line 8)) (3.6.2)\n",
      "Requirement already satisfied: websocket-client in c:\\users\\maks_\\appdata\\local\\programs\\python\\python39\\lib\\site-packages (from jupyter-server>=1.8->nbclassic>=0.4.7->notebook==6.5.4->-r requirements.txt (line 8)) (1.5.1)\n",
      "Requirement already satisfied: jupyter-events>=0.4.0 in c:\\users\\maks_\\appdata\\local\\programs\\python\\python39\\lib\\site-packages (from jupyter-server>=1.8->nbclassic>=0.4.7->notebook==6.5.4->-r requirements.txt (line 8)) (0.6.3)\n",
      "Requirement already satisfied: soupsieve>1.2 in c:\\users\\maks_\\appdata\\local\\programs\\python\\python39\\lib\\site-packages (from beautifulsoup4->nbconvert>=5->notebook==6.5.4->-r requirements.txt (line 8)) (2.4.1)\n",
      "Requirement already satisfied: webencodings in c:\\users\\maks_\\appdata\\local\\programs\\python\\python39\\lib\\site-packages (from bleach->nbconvert>=5->notebook==6.5.4->-r requirements.txt (line 8)) (0.5.1)\n",
      "Requirement already satisfied: sniffio>=1.1 in c:\\users\\maks_\\appdata\\local\\programs\\python\\python39\\lib\\site-packages (from anyio>=3.1.0->jupyter-server>=1.8->nbclassic>=0.4.7->notebook==6.5.4->-r requirements.txt (line 8)) (1.3.0)\n",
      "Requirement already satisfied: rfc3339-validator in c:\\users\\maks_\\appdata\\local\\programs\\python\\python39\\lib\\site-packages (from jupyter-events>=0.4.0->jupyter-server>=1.8->nbclassic>=0.4.7->notebook==6.5.4->-r requirements.txt (line 8)) (0.1.4)\n",
      "Requirement already satisfied: pyyaml>=5.3 in c:\\users\\maks_\\appdata\\local\\programs\\python\\python39\\lib\\site-packages (from jupyter-events>=0.4.0->jupyter-server>=1.8->nbclassic>=0.4.7->notebook==6.5.4->-r requirements.txt (line 8)) (6.0)\n",
      "Requirement already satisfied: rfc3986-validator>=0.1.1 in c:\\users\\maks_\\appdata\\local\\programs\\python\\python39\\lib\\site-packages (from jupyter-events>=0.4.0->jupyter-server>=1.8->nbclassic>=0.4.7->notebook==6.5.4->-r requirements.txt (line 8)) (0.1.1)\n",
      "Requirement already satisfied: python-json-logger>=2.0.4 in c:\\users\\maks_\\appdata\\local\\programs\\python\\python39\\lib\\site-packages (from jupyter-events>=0.4.0->jupyter-server>=1.8->nbclassic>=0.4.7->notebook==6.5.4->-r requirements.txt (line 8)) (2.0.7)\n",
      "Requirement already satisfied: isoduration in c:\\users\\maks_\\appdata\\local\\programs\\python\\python39\\lib\\site-packages (from jsonschema>=2.6->nbformat->notebook==6.5.4->-r requirements.txt (line 8)) (20.11.0)\n",
      "Requirement already satisfied: jsonpointer>1.13 in c:\\users\\maks_\\appdata\\local\\programs\\python\\python39\\lib\\site-packages (from jsonschema>=2.6->nbformat->notebook==6.5.4->-r requirements.txt (line 8)) (2.3)\n",
      "Requirement already satisfied: fqdn in c:\\users\\maks_\\appdata\\local\\programs\\python\\python39\\lib\\site-packages (from jsonschema>=2.6->nbformat->notebook==6.5.4->-r requirements.txt (line 8)) (1.5.1)\n",
      "Requirement already satisfied: webcolors>=1.11 in c:\\users\\maks_\\appdata\\local\\programs\\python\\python39\\lib\\site-packages (from jsonschema>=2.6->nbformat->notebook==6.5.4->-r requirements.txt (line 8)) (1.13)\n",
      "Requirement already satisfied: uri-template in c:\\users\\maks_\\appdata\\local\\programs\\python\\python39\\lib\\site-packages (from jsonschema>=2.6->nbformat->notebook==6.5.4->-r requirements.txt (line 8)) (1.2.0)\n",
      "Requirement already satisfied: arrow>=0.15.0 in c:\\users\\maks_\\appdata\\local\\programs\\python\\python39\\lib\\site-packages (from isoduration->jsonschema>=2.6->nbformat->notebook==6.5.4->-r requirements.txt (line 8)) (1.2.3)\n"
     ]
    },
    {
     "name": "stderr",
     "output_type": "stream",
     "text": [
      "WARNING: You are using pip version 22.0.4; however, version 23.1 is available.\n",
      "You should consider upgrading via the 'C:\\Users\\maks_\\AppData\\Local\\Programs\\Python\\Python39\\python.exe -m pip install --upgrade pip' command.\n"
     ]
    }
   ],
   "source": [
    "pip install -r requirements.txt"
   ]
  },
  {
   "cell_type": "code",
   "execution_count": 2,
   "id": "608f49c3",
   "metadata": {},
   "outputs": [],
   "source": [
    "import json\n",
    "import pandas as pd\n",
    "import locale"
   ]
  },
  {
   "cell_type": "markdown",
   "id": "64be6704",
   "metadata": {},
   "source": [
    "# Data preparation"
   ]
  },
  {
   "cell_type": "code",
   "execution_count": 3,
   "id": "0ce0abd9",
   "metadata": {},
   "outputs": [],
   "source": [
    "train_url = 'https://raw.githubusercontent.com/sonodug/NER/main/data/train.json'\n",
    "test_url = 'https://raw.githubusercontent.com/sonodug/NER/main/data/test.json'\n",
    "\n",
    "train_df  = pd.read_json(train_url)\n",
    "test_df = pd.read_json(test_url)"
   ]
  },
  {
   "cell_type": "code",
   "execution_count": 4,
   "id": "921fa561",
   "metadata": {},
   "outputs": [
    {
     "data": {
      "text/html": [
       "<div>\n",
       "<style scoped>\n",
       "    .dataframe tbody tr th:only-of-type {\n",
       "        vertical-align: middle;\n",
       "    }\n",
       "\n",
       "    .dataframe tbody tr th {\n",
       "        vertical-align: top;\n",
       "    }\n",
       "\n",
       "    .dataframe thead th {\n",
       "        text-align: right;\n",
       "    }\n",
       "</style>\n",
       "<table border=\"1\" class=\"dataframe\">\n",
       "  <thead>\n",
       "    <tr style=\"text-align: right;\">\n",
       "      <th></th>\n",
       "      <th>id</th>\n",
       "      <th>text</th>\n",
       "      <th>label</th>\n",
       "      <th>extracted_part</th>\n",
       "    </tr>\n",
       "  </thead>\n",
       "  <tbody>\n",
       "    <tr>\n",
       "      <th>0</th>\n",
       "      <td>809436509</td>\n",
       "      <td>Извещение о проведении открытого конкурса в эл...</td>\n",
       "      <td>обеспечение исполнения контракта</td>\n",
       "      <td>{'text': ['Размер обеспечения исполнения контр...</td>\n",
       "    </tr>\n",
       "    <tr>\n",
       "      <th>1</th>\n",
       "      <td>854885310</td>\n",
       "      <td>ТРЕБОВАНИЯ К СОДЕРЖАНИЮ ЗАЯВКИ участника запро...</td>\n",
       "      <td>обеспечение исполнения контракта</td>\n",
       "      <td>{'text': ['Поставщик должен предоставить обесп...</td>\n",
       "    </tr>\n",
       "    <tr>\n",
       "      <th>2</th>\n",
       "      <td>4382157</td>\n",
       "      <td>Извещение о проведении электронного аукциона д...</td>\n",
       "      <td>обеспечение исполнения контракта</td>\n",
       "      <td>{'text': ['Размер обеспечения исполнения контр...</td>\n",
       "    </tr>\n",
       "    <tr>\n",
       "      <th>3</th>\n",
       "      <td>184555082</td>\n",
       "      <td>Извещение о проведении электронного аукциона д...</td>\n",
       "      <td>обеспечение исполнения контракта</td>\n",
       "      <td>{'text': ['Размер обеспечения исполнения контр...</td>\n",
       "    </tr>\n",
       "    <tr>\n",
       "      <th>4</th>\n",
       "      <td>211645258</td>\n",
       "      <td>Извещение о проведении электронного аукциона д...</td>\n",
       "      <td>обеспечение исполнения контракта</td>\n",
       "      <td>{'text': ['Размер обеспечения исполнения контр...</td>\n",
       "    </tr>\n",
       "  </tbody>\n",
       "</table>\n",
       "</div>"
      ],
      "text/plain": [
       "          id                                               text  \\\n",
       "0  809436509  Извещение о проведении открытого конкурса в эл...   \n",
       "1  854885310  ТРЕБОВАНИЯ К СОДЕРЖАНИЮ ЗАЯВКИ участника запро...   \n",
       "2    4382157  Извещение о проведении электронного аукциона д...   \n",
       "3  184555082  Извещение о проведении электронного аукциона д...   \n",
       "4  211645258  Извещение о проведении электронного аукциона д...   \n",
       "\n",
       "                              label  \\\n",
       "0  обеспечение исполнения контракта   \n",
       "1  обеспечение исполнения контракта   \n",
       "2  обеспечение исполнения контракта   \n",
       "3  обеспечение исполнения контракта   \n",
       "4  обеспечение исполнения контракта   \n",
       "\n",
       "                                      extracted_part  \n",
       "0  {'text': ['Размер обеспечения исполнения контр...  \n",
       "1  {'text': ['Поставщик должен предоставить обесп...  \n",
       "2  {'text': ['Размер обеспечения исполнения контр...  \n",
       "3  {'text': ['Размер обеспечения исполнения контр...  \n",
       "4  {'text': ['Размер обеспечения исполнения контр...  "
      ]
     },
     "execution_count": 4,
     "metadata": {},
     "output_type": "execute_result"
    }
   ],
   "source": [
    "train_df.head()"
   ]
  },
  {
   "cell_type": "code",
   "execution_count": 5,
   "id": "86b037fb",
   "metadata": {},
   "outputs": [
    {
     "data": {
      "text/html": [
       "<div>\n",
       "<style scoped>\n",
       "    .dataframe tbody tr th:only-of-type {\n",
       "        vertical-align: middle;\n",
       "    }\n",
       "\n",
       "    .dataframe tbody tr th {\n",
       "        vertical-align: top;\n",
       "    }\n",
       "\n",
       "    .dataframe thead th {\n",
       "        text-align: right;\n",
       "    }\n",
       "</style>\n",
       "<table border=\"1\" class=\"dataframe\">\n",
       "  <thead>\n",
       "    <tr style=\"text-align: right;\">\n",
       "      <th></th>\n",
       "      <th>id</th>\n",
       "      <th>text</th>\n",
       "      <th>label</th>\n",
       "    </tr>\n",
       "  </thead>\n",
       "  <tbody>\n",
       "    <tr>\n",
       "      <th>0</th>\n",
       "      <td>762883279</td>\n",
       "      <td>МУНИЦИПАЛЬНЫЙ КОНТРАКТ № ______ на оказание ус...</td>\n",
       "      <td>обеспечение исполнения контракта</td>\n",
       "    </tr>\n",
       "    <tr>\n",
       "      <th>1</th>\n",
       "      <td>311837655</td>\n",
       "      <td>Извещение о проведении электронного аукциона д...</td>\n",
       "      <td>обеспечение исполнения контракта</td>\n",
       "    </tr>\n",
       "    <tr>\n",
       "      <th>2</th>\n",
       "      <td>540954893</td>\n",
       "      <td>Идентификационный код закупки: 222633005300163...</td>\n",
       "      <td>обеспечение исполнения контракта</td>\n",
       "    </tr>\n",
       "    <tr>\n",
       "      <th>3</th>\n",
       "      <td>274660397</td>\n",
       "      <td>Идентификационный код закупки: 222631202689463...</td>\n",
       "      <td>обеспечение исполнения контракта</td>\n",
       "    </tr>\n",
       "    <tr>\n",
       "      <th>4</th>\n",
       "      <td>732742591</td>\n",
       "      <td>Идентификационный код закупки: 222637800031163...</td>\n",
       "      <td>обеспечение исполнения контракта</td>\n",
       "    </tr>\n",
       "  </tbody>\n",
       "</table>\n",
       "</div>"
      ],
      "text/plain": [
       "          id                                               text  \\\n",
       "0  762883279  МУНИЦИПАЛЬНЫЙ КОНТРАКТ № ______ на оказание ус...   \n",
       "1  311837655  Извещение о проведении электронного аукциона д...   \n",
       "2  540954893  Идентификационный код закупки: 222633005300163...   \n",
       "3  274660397  Идентификационный код закупки: 222631202689463...   \n",
       "4  732742591  Идентификационный код закупки: 222637800031163...   \n",
       "\n",
       "                              label  \n",
       "0  обеспечение исполнения контракта  \n",
       "1  обеспечение исполнения контракта  \n",
       "2  обеспечение исполнения контракта  \n",
       "3  обеспечение исполнения контракта  \n",
       "4  обеспечение исполнения контракта  "
      ]
     },
     "execution_count": 5,
     "metadata": {},
     "output_type": "execute_result"
    }
   ],
   "source": [
    "test_df.head()"
   ]
  },
  {
   "cell_type": "code",
   "execution_count": 6,
   "id": "af50e233",
   "metadata": {},
   "outputs": [
    {
     "data": {
      "text/plain": [
       "1799"
      ]
     },
     "execution_count": 6,
     "metadata": {},
     "output_type": "execute_result"
    }
   ],
   "source": [
    "len(train_df[\"text\"].values)"
   ]
  },
  {
   "cell_type": "code",
   "execution_count": 7,
   "id": "3d68e7c7",
   "metadata": {},
   "outputs": [
    {
     "data": {
      "text/plain": [
       "318"
      ]
     },
     "execution_count": 7,
     "metadata": {},
     "output_type": "execute_result"
    }
   ],
   "source": [
    "len(test_df[\"text\"].values)"
   ]
  },
  {
   "cell_type": "code",
   "execution_count": 8,
   "id": "6ff0f22c",
   "metadata": {},
   "outputs": [],
   "source": [
    "locale.getpreferredencoding = lambda: \"UTF-8\""
   ]
  },
  {
   "cell_type": "markdown",
   "id": "69fc235a",
   "metadata": {},
   "source": [
    "# NER with spaCy's pretrained model "
   ]
  },
  {
   "cell_type": "code",
   "execution_count": 9,
   "id": "95940f2a",
   "metadata": {},
   "outputs": [],
   "source": [
    "import spacy\n",
    "from spacy import displacy"
   ]
  },
  {
   "cell_type": "code",
   "execution_count": 10,
   "id": "b422119c",
   "metadata": {},
   "outputs": [
    {
     "name": "stdout",
     "output_type": "stream",
     "text": [
      "Collecting ru-core-news-sm==3.5.0\n",
      "  Downloading https://github.com/explosion/spacy-models/releases/download/ru_core_news_sm-3.5.0/ru_core_news_sm-3.5.0-py3-none-any.whl (15.3 MB)\n",
      "     ---------------------------------------- 15.3/15.3 MB 4.6 MB/s eta 0:00:00\n",
      "Requirement already satisfied: spacy<3.6.0,>=3.5.0 in c:\\users\\maks_\\appdata\\local\\programs\\python\\python39\\lib\\site-packages (from ru-core-news-sm==3.5.0) (3.5.2)\n",
      "Requirement already satisfied: pymorphy3>=1.0.0 in c:\\users\\maks_\\appdata\\local\\programs\\python\\python39\\lib\\site-packages (from ru-core-news-sm==3.5.0) (1.2.0)\n",
      "Requirement already satisfied: dawg-python>=0.7.1 in c:\\users\\maks_\\appdata\\local\\programs\\python\\python39\\lib\\site-packages (from pymorphy3>=1.0.0->ru-core-news-sm==3.5.0) (0.7.2)\n",
      "Requirement already satisfied: pymorphy3-dicts-ru in c:\\users\\maks_\\appdata\\local\\programs\\python\\python39\\lib\\site-packages (from pymorphy3>=1.0.0->ru-core-news-sm==3.5.0) (2.4.417150.4580142)\n",
      "Requirement already satisfied: docopt>=0.6 in c:\\users\\maks_\\appdata\\local\\programs\\python\\python39\\lib\\site-packages (from pymorphy3>=1.0.0->ru-core-news-sm==3.5.0) (0.6.2)\n",
      "Requirement already satisfied: preshed<3.1.0,>=3.0.2 in c:\\users\\maks_\\appdata\\local\\programs\\python\\python39\\lib\\site-packages (from spacy<3.6.0,>=3.5.0->ru-core-news-sm==3.5.0) (3.0.8)\n",
      "Requirement already satisfied: requests<3.0.0,>=2.13.0 in c:\\users\\maks_\\appdata\\local\\programs\\python\\python39\\lib\\site-packages (from spacy<3.6.0,>=3.5.0->ru-core-news-sm==3.5.0) (2.28.2)\n",
      "Requirement already satisfied: langcodes<4.0.0,>=3.2.0 in c:\\users\\maks_\\appdata\\local\\programs\\python\\python39\\lib\\site-packages (from spacy<3.6.0,>=3.5.0->ru-core-news-sm==3.5.0) (3.3.0)\n",
      "Requirement already satisfied: tqdm<5.0.0,>=4.38.0 in c:\\users\\maks_\\appdata\\local\\programs\\python\\python39\\lib\\site-packages (from spacy<3.6.0,>=3.5.0->ru-core-news-sm==3.5.0) (4.65.0)\n",
      "Requirement already satisfied: packaging>=20.0 in c:\\users\\maks_\\appdata\\local\\programs\\python\\python39\\lib\\site-packages (from spacy<3.6.0,>=3.5.0->ru-core-news-sm==3.5.0) (23.1)\n",
      "Requirement already satisfied: cymem<2.1.0,>=2.0.2 in c:\\users\\maks_\\appdata\\local\\programs\\python\\python39\\lib\\site-packages (from spacy<3.6.0,>=3.5.0->ru-core-news-sm==3.5.0) (2.0.7)\n",
      "Requirement already satisfied: typer<0.8.0,>=0.3.0 in c:\\users\\maks_\\appdata\\local\\programs\\python\\python39\\lib\\site-packages (from spacy<3.6.0,>=3.5.0->ru-core-news-sm==3.5.0) (0.7.0)\n",
      "Requirement already satisfied: thinc<8.2.0,>=8.1.8 in c:\\users\\maks_\\appdata\\local\\programs\\python\\python39\\lib\\site-packages (from spacy<3.6.0,>=3.5.0->ru-core-news-sm==3.5.0) (8.1.9)\n",
      "Requirement already satisfied: smart-open<7.0.0,>=5.2.1 in c:\\users\\maks_\\appdata\\local\\programs\\python\\python39\\lib\\site-packages (from spacy<3.6.0,>=3.5.0->ru-core-news-sm==3.5.0) (6.3.0)\n",
      "Requirement already satisfied: pathy>=0.10.0 in c:\\users\\maks_\\appdata\\local\\programs\\python\\python39\\lib\\site-packages (from spacy<3.6.0,>=3.5.0->ru-core-news-sm==3.5.0) (0.10.1)\n",
      "Requirement already satisfied: wasabi<1.2.0,>=0.9.1 in c:\\users\\maks_\\appdata\\local\\programs\\python\\python39\\lib\\site-packages (from spacy<3.6.0,>=3.5.0->ru-core-news-sm==3.5.0) (0.10.1)\n",
      "Requirement already satisfied: jinja2 in c:\\users\\maks_\\appdata\\local\\programs\\python\\python39\\lib\\site-packages (from spacy<3.6.0,>=3.5.0->ru-core-news-sm==3.5.0) (3.1.2)\n",
      "Requirement already satisfied: setuptools in c:\\users\\maks_\\appdata\\local\\programs\\python\\python39\\lib\\site-packages (from spacy<3.6.0,>=3.5.0->ru-core-news-sm==3.5.0) (58.1.0)\n",
      "Requirement already satisfied: pydantic!=1.8,!=1.8.1,<1.11.0,>=1.7.4 in c:\\users\\maks_\\appdata\\local\\programs\\python\\python39\\lib\\site-packages (from spacy<3.6.0,>=3.5.0->ru-core-news-sm==3.5.0) (1.9.2)\n",
      "Requirement already satisfied: spacy-legacy<3.1.0,>=3.0.11 in c:\\users\\maks_\\appdata\\local\\programs\\python\\python39\\lib\\site-packages (from spacy<3.6.0,>=3.5.0->ru-core-news-sm==3.5.0) (3.0.12)\n",
      "Requirement already satisfied: numpy>=1.15.0 in c:\\users\\maks_\\appdata\\local\\programs\\python\\python39\\lib\\site-packages (from spacy<3.6.0,>=3.5.0->ru-core-news-sm==3.5.0) (1.24.2)\n",
      "Requirement already satisfied: spacy-loggers<2.0.0,>=1.0.0 in c:\\users\\maks_\\appdata\\local\\programs\\python\\python39\\lib\\site-packages (from spacy<3.6.0,>=3.5.0->ru-core-news-sm==3.5.0) (1.0.4)\n",
      "Requirement already satisfied: murmurhash<1.1.0,>=0.28.0 in c:\\users\\maks_\\appdata\\local\\programs\\python\\python39\\lib\\site-packages (from spacy<3.6.0,>=3.5.0->ru-core-news-sm==3.5.0) (1.0.9)\n",
      "Requirement already satisfied: srsly<3.0.0,>=2.4.3 in c:\\users\\maks_\\appdata\\local\\programs\\python\\python39\\lib\\site-packages (from spacy<3.6.0,>=3.5.0->ru-core-news-sm==3.5.0) (2.4.6)\n",
      "Requirement already satisfied: catalogue<2.1.0,>=2.0.6 in c:\\users\\maks_\\appdata\\local\\programs\\python\\python39\\lib\\site-packages (from spacy<3.6.0,>=3.5.0->ru-core-news-sm==3.5.0) (2.0.8)\n",
      "Requirement already satisfied: typing-extensions>=3.7.4.3 in c:\\users\\maks_\\appdata\\local\\programs\\python\\python39\\lib\\site-packages (from pydantic!=1.8,!=1.8.1,<1.11.0,>=1.7.4->spacy<3.6.0,>=3.5.0->ru-core-news-sm==3.5.0) (4.5.0)\n",
      "Requirement already satisfied: urllib3<1.27,>=1.21.1 in c:\\users\\maks_\\appdata\\local\\programs\\python\\python39\\lib\\site-packages (from requests<3.0.0,>=2.13.0->spacy<3.6.0,>=3.5.0->ru-core-news-sm==3.5.0) (1.26.15)\n",
      "Requirement already satisfied: idna<4,>=2.5 in c:\\users\\maks_\\appdata\\local\\programs\\python\\python39\\lib\\site-packages (from requests<3.0.0,>=2.13.0->spacy<3.6.0,>=3.5.0->ru-core-news-sm==3.5.0) (3.4)\n",
      "Requirement already satisfied: certifi>=2017.4.17 in c:\\users\\maks_\\appdata\\local\\programs\\python\\python39\\lib\\site-packages (from requests<3.0.0,>=2.13.0->spacy<3.6.0,>=3.5.0->ru-core-news-sm==3.5.0) (2022.12.7)\n",
      "Requirement already satisfied: charset-normalizer<4,>=2 in c:\\users\\maks_\\appdata\\local\\programs\\python\\python39\\lib\\site-packages (from requests<3.0.0,>=2.13.0->spacy<3.6.0,>=3.5.0->ru-core-news-sm==3.5.0) (3.1.0)\n",
      "Requirement already satisfied: confection<1.0.0,>=0.0.1 in c:\\users\\maks_\\appdata\\local\\programs\\python\\python39\\lib\\site-packages (from thinc<8.2.0,>=8.1.8->spacy<3.6.0,>=3.5.0->ru-core-news-sm==3.5.0) (0.0.4)\n",
      "Requirement already satisfied: blis<0.8.0,>=0.7.8 in c:\\users\\maks_\\appdata\\local\\programs\\python\\python39\\lib\\site-packages (from thinc<8.2.0,>=8.1.8->spacy<3.6.0,>=3.5.0->ru-core-news-sm==3.5.0) (0.7.9)\n",
      "Requirement already satisfied: colorama in c:\\users\\maks_\\appdata\\local\\programs\\python\\python39\\lib\\site-packages (from tqdm<5.0.0,>=4.38.0->spacy<3.6.0,>=3.5.0->ru-core-news-sm==3.5.0) (0.4.6)\n",
      "Requirement already satisfied: click<9.0.0,>=7.1.1 in c:\\users\\maks_\\appdata\\local\\programs\\python\\python39\\lib\\site-packages (from typer<0.8.0,>=0.3.0->spacy<3.6.0,>=3.5.0->ru-core-news-sm==3.5.0) (8.1.3)\n",
      "Requirement already satisfied: MarkupSafe>=2.0 in c:\\users\\maks_\\appdata\\local\\programs\\python\\python39\\lib\\site-packages (from jinja2->spacy<3.6.0,>=3.5.0->ru-core-news-sm==3.5.0) (2.1.2)\n",
      "[+] Download and installation successful\n",
      "You can now load the package via spacy.load('ru_core_news_sm')\n"
     ]
    },
    {
     "name": "stderr",
     "output_type": "stream",
     "text": [
      "WARNING: You are using pip version 22.0.4; however, version 23.1 is available.\n",
      "You should consider upgrading via the 'C:\\Users\\maks_\\AppData\\Local\\Programs\\Python\\Python39\\python.exe -m pip install --upgrade pip' command.\n"
     ]
    }
   ],
   "source": [
    "!python -m spacy download ru_core_news_sm"
   ]
  },
  {
   "cell_type": "code",
   "execution_count": 11,
   "id": "d1e60f0d",
   "metadata": {},
   "outputs": [
    {
     "data": {
      "text/plain": [
       "['ner']"
      ]
     },
     "execution_count": 11,
     "metadata": {},
     "output_type": "execute_result"
    }
   ],
   "source": [
    "# Load and initialize a blank spaCy model\n",
    "nlp=spacy.blank(\"ru\")\n",
    "nlp.add_pipe('ner')\n",
    "nlp.begin_training()\n",
    "ner = nlp.get_pipe(\"ner\")\n",
    "# View pipeline components\n",
    "nlp.pipe_names"
   ]
  },
  {
   "cell_type": "markdown",
   "id": "d5c22875",
   "metadata": {},
   "source": [
    "The pretrained model comes with a default processing pipeline that includes part-of-speech tagging, syntactic parsing, and NER. \n",
    "The pretrained models are statistical and every “decision” they make is a prediction based on the examples the model has seen during training."
   ]
  },
  {
   "cell_type": "code",
   "execution_count": 12,
   "id": "69a6031e",
   "metadata": {},
   "outputs": [
    {
     "data": {
      "text/plain": [
       "()"
      ]
     },
     "execution_count": 12,
     "metadata": {},
     "output_type": "execute_result"
    }
   ],
   "source": [
    "ner.labels"
   ]
  },
  {
   "cell_type": "code",
   "execution_count": 13,
   "id": "173327e4",
   "metadata": {},
   "outputs": [],
   "source": [
    "ex_text = \"\"\"В 1999 году я побывал в Париже и посетил Эйфелеву башню. Там было много туристов, и я сделал много фотографий.\n",
    "Вечером мы с моим другом Владимиром пошли в ресторан и заказали французский сыр и красное вино. \n",
    "Потом мы прогулялись по набережной Сены и наслаждались красивым видом на город.\n",
    "Вообще, Париж очень интересный город, и я был рад, что смог побывать там.\"\"\"\n",
    "\n",
    "# Run the text through the pretrained model\n",
    "doc = nlp(ex_text)\n",
    "\n",
    "# The NER pipeline component tags entities in the doc with various attributes\n",
    "for ent in doc.ents:\n",
    "    print(ent.text, ent.start_char, ent.end_char, ent.label_)"
   ]
  },
  {
   "cell_type": "code",
   "execution_count": 14,
   "id": "f5c3f084",
   "metadata": {},
   "outputs": [
    {
     "name": "stderr",
     "output_type": "stream",
     "text": [
      "C:\\Users\\maks_\\AppData\\Local\\Programs\\Python\\Python39\\lib\\site-packages\\spacy\\displacy\\__init__.py:211: UserWarning: [W006] No entities to visualize found in Doc object. If this is surprising to you, make sure the Doc was processed using a model that supports named entity recognition, and check the `doc.ents` property manually if necessary.\n",
      "  warnings.warn(Warnings.W006)\n"
     ]
    },
    {
     "data": {
      "text/html": [
       "<span class=\"tex2jax_ignore\"><div class=\"entities\" style=\"line-height: 2.5; direction: ltr\">В 1999 году я побывал в Париже и посетил Эйфелеву башню. Там было много туристов, и я сделал много фотографий.</br>Вечером мы с моим другом Владимиром пошли в ресторан и заказали французский сыр и красное вино. </br>Потом мы прогулялись по набережной Сены и наслаждались красивым видом на город.</br>Вообще, Париж очень интересный город, и я был рад, что смог побывать там.</div></span>"
      ],
      "text/plain": [
       "<IPython.core.display.HTML object>"
      ]
     },
     "metadata": {},
     "output_type": "display_data"
    }
   ],
   "source": [
    "# Use displacy to visualize entities\n",
    "displacy.render(doc, style='ent', jupyter=True)"
   ]
  },
  {
   "cell_type": "code",
   "execution_count": 15,
   "id": "5031e211",
   "metadata": {},
   "outputs": [
    {
     "name": "stdout",
     "output_type": "stream",
     "text": [
      "('Извещение о проведении открытого конкурса в электронной форме для закупки №0328300032822000806 Общая информация Номер извещения 0328300032822000806 Наименование объекта закупки Поставка продуктов питания Способ определения поставщика (подрядчика, исполнителя) Открытый конкурс в бль Порядок внесения денежных средств в качестве обеспечения заявки на участие в закупке, а также условия гарантии Обеспечение заявки на участие в закупке может предоставляться участником закупки в виде денежных средств или независимой гарантии, предусмотренной ст. 45 Федерального закона № 44-ФЗ. Выбор способа обеспечения осуществляется участником закупки самостоятельно. Срок действия независимой гарантии должен составлять не менее месяца с даты окончания срока подачи заявок. Обеспечение заявки на участие в закупке предоставляется в соответствии с ч. 5 ст. 44 Федерального закона № 44-ФЗ. Условия независимой гарантии в соответствии со ст. 45 Федерального закона № 44-ФЗ. Реквизиты счета в соответствии с п.16 ч. 1 ст. 42 Закона № 44-ФЗ \"Номер расчётного счёта\" 00000000000000000000 \"Номер лицевого счёта\" См. прилагаемые документы \"БИК\" 000000000 \"Наименование кредитной организации\" \"Номер корреспондентского счета\" Обеспечение исполнения контракта Требуется обеспечение исполнения контракта Размер обеспечения исполнения контракта 6593.25 Российский рубль Порядок обеспечения исполнения контракта, требования к обеспечению Исполнение контракта, гарантийные обязательства могут обеспечиваться предоставлением независимой гарантии, соответствующей требованиям ст. 45 Федерального закона № 44-ФЗ, или внесением денежных средств на указанный заказчиком счет, на котором в соответствии с законодательством Российской Федерации учитываются операции со средствами, поступающими заказчику. Способ обеспечения исполнения контракта, гарантийных обязательств, срок действия независимой гарантии определяются в соответствии с требованиями Федерального закона № 44-ФЗ участником закупки, с которым заключается контракт, самостоятельно. При этом срок действия независимой гарантии должен превышать предусмотренный контрактом срок исполнения обязательств, которые должны быть обеспечены такой независимой гарантией, не менее чем на один месяц, в том числе в случае его изменения в соответствии со ст. 95 Федерального закона № 44-ФЗ. Порядок предоставления и требования о Информация и документы, подтверждающие соответствие участников закупки дополнительным требованиям: 1) исполненный договор; 2) акт приемки оказанных услуг и (или) поставленных товаров, подтверждающий цену оказанных услуг и (или) поставленных товаров 4', {'entities': [(1279, 1343, 'обеспечение исполнения контракта')]})\n"
     ]
    }
   ],
   "source": [
    "# Formatting the data for training the model\n",
    "formatted_data = []\n",
    "\n",
    "for index, row in train_df.iterrows():\n",
    "    text = row['text']\n",
    "    entities = []\n",
    "    for i in range(len(row['extracted_part']['text'])):\n",
    "      start = row['extracted_part']['answer_start'][0]\n",
    "      end = row['extracted_part']['answer_end'][0]\n",
    "      label = row['label']\n",
    "      entities.append((start, end, label))\n",
    "    formatted_data.append((text, {\"entities\": entities}))\n",
    "\n",
    "print(formatted_data[0])"
   ]
  },
  {
   "cell_type": "code",
   "execution_count": 16,
   "id": "d5e66b45",
   "metadata": {},
   "outputs": [],
   "source": [
    "# Adding labels of entities encountered in data\n",
    "for _, annotations in formatted_data:\n",
    "  for ent in annotations.get(\"entities\"):\n",
    "    ner.add_label(ent[2])"
   ]
  },
  {
   "cell_type": "code",
   "execution_count": 17,
   "id": "98788daf",
   "metadata": {},
   "outputs": [
    {
     "data": {
      "text/plain": [
       "('обеспечение гарантийных обязательств', 'обеспечение исполнения контракта')"
      ]
     },
     "execution_count": 17,
     "metadata": {},
     "output_type": "execute_result"
    }
   ],
   "source": [
    "ner.labels"
   ]
  },
  {
   "cell_type": "code",
   "execution_count": 18,
   "id": "27442a98",
   "metadata": {},
   "outputs": [
    {
     "data": {
      "text/plain": [
       "['O',\n",
       " 'B-обеспечение исполнения контракта',\n",
       " 'I-обеспечение исполнения контракта',\n",
       " 'L-обеспечение исполнения контракта',\n",
       " 'U-обеспечение исполнения контракта',\n",
       " 'B-обеспечение гарантийных обязательств',\n",
       " 'I-обеспечение гарантийных обязательств',\n",
       " 'L-обеспечение гарантийных обязательств',\n",
       " 'U-обеспечение гарантийных обязательств']"
      ]
     },
     "execution_count": 18,
     "metadata": {},
     "output_type": "execute_result"
    }
   ],
   "source": [
    "move_names = list(ner.move_names)\n",
    "move_names"
   ]
  },
  {
   "cell_type": "markdown",
   "id": "386a571d",
   "metadata": {},
   "source": [
    "# Train a custom model"
   ]
  },
  {
   "cell_type": "markdown",
   "id": "03e4d227",
   "metadata": {},
   "source": [
    "![train_ipeline](images/train_pipeline.png)\n",
    "\n",
    "Where:\n",
    "\n",
    "- **Training data**: Examples and their annotations.\n",
    "- **Text**: The input text the model should predict a label for.\n",
    "- **Label**: The label the model should predict.\n",
    "- **Gradient**: Gradient of the loss function calculating the difference between input and expected output.\n",
    "\n",
    "Hyperparameters:\n",
    "- **Iterations**: we'll run the model on our training data multiple times. at each iteration, the model will evaluate its predictions against the true labels and adjust its weights accordingly\n",
    "- **Shuffle**: at each iteration, the training data is shuffled so the model doesn’t make any generalisations based on order\n",
    "- **Minibatch with compounding**: at each iteration, a different batch size of our training data is used.\n",
    "- **Dropout rate**: at each iteration, randomly “drop” a percentage of features to avoid memorization. for smaller training datasets."
   ]
  },
  {
   "cell_type": "code",
   "execution_count": 19,
   "id": "f69f3d00",
   "metadata": {},
   "outputs": [],
   "source": [
    "# We will train on 40 iterations until the losses are less than 1200.\n",
    "losses_min_threshold = 1200\n",
    "iterations = 35\n",
    "\n",
    "loss_scores = []\n",
    "accuracy_scores = []\n",
    "precision_scores = []\n",
    "recall_scores = []\n",
    "f1_scores = []\n",
    "data = []"
   ]
  },
  {
   "cell_type": "code",
   "execution_count": null,
   "id": "ea02eecb",
   "metadata": {},
   "outputs": [
    {
     "name": "stderr",
     "output_type": "stream",
     "text": [
      "Iteration 1: 100%|████████████████████| 1799/1799 [03:18<00:00,  7.33it/s]                                                                                                                                                             "
     ]
    },
    {
     "name": "stdout",
     "output_type": "stream",
     "text": [
      "Precision: 0.37762762762762764 Recall: 0.3431105047748977 F1-score: 0.3595425303788421\n",
      "  Losses: 14055.07048390221\n",
      "\n"
     ]
    },
    {
     "name": "stderr",
     "output_type": "stream",
     "text": [
      "Iteration 2: 100%|████████████████████| 1799/1799 [03:16<00:00,  7.95it/s]                                                                                                                                                             "
     ]
    },
    {
     "name": "stdout",
     "output_type": "stream",
     "text": [
      "Precision: 0.5488404778636683 Recall: 0.5327421555252387 F1-score: 0.5406715126341294\n",
      "  Losses: 3528.9045368357347\n",
      "\n"
     ]
    },
    {
     "name": "stderr",
     "output_type": "stream",
     "text": [
      "Iteration 3: 100%|████████████████████| 1799/1799 [03:23<00:00,  8.11it/s]                                                                                                                                                             "
     ]
    },
    {
     "name": "stdout",
     "output_type": "stream",
     "text": [
      "Precision: 0.6176678445229682 Recall: 0.5961800818553888 F1-score: 0.6067337729954877\n",
      "  Losses: 2563.525884340222\n",
      "\n"
     ]
    },
    {
     "name": "stderr",
     "output_type": "stream",
     "text": [
      "Iteration 4: 100%|███████████████████▉| 1798/1799 [03:22<00:00,  8.82it/s]                                                                                                                                                             "
     ]
    },
    {
     "name": "stdout",
     "output_type": "stream",
     "text": [
      "Precision: 0.6374228923920493 Recall: 0.6343792633015006 F1-score: 0.6358974358974359\n",
      "  Losses: 2539.378321850982\n",
      "\n"
     ]
    },
    {
     "name": "stderr",
     "output_type": "stream",
     "text": [
      "Iteration 5: 100%|████████████████████| 1799/1799 [03:17<00:00, 10.06it/s]                                                                                                                                                             "
     ]
    },
    {
     "name": "stdout",
     "output_type": "stream",
     "text": [
      "Precision: 0.6602870813397129 Recall: 0.6589358799454298 F1-score: 0.6596107886650734\n",
      "  Losses: 2428.6662926905087\n",
      "\n"
     ]
    },
    {
     "name": "stderr",
     "output_type": "stream",
     "text": [
      "Iteration 6: 100%|████████████████████| 1799/1799 [03:18<00:00,  8.85it/s]                                                                                                                                                             "
     ]
    },
    {
     "name": "stdout",
     "output_type": "stream",
     "text": [
      "Precision: 0.7013167013167013 Recall: 0.6903137789904502 F1-score: 0.6957717428669646\n",
      "  Losses: 2192.5627203513827\n",
      "\n"
     ]
    },
    {
     "name": "stderr",
     "output_type": "stream",
     "text": [
      "Iteration 7: 100%|████████████████████| 1799/1799 [03:20<00:00,  8.45it/s]                                                                                                                                                             "
     ]
    },
    {
     "name": "stdout",
     "output_type": "stream",
     "text": [
      "Precision: 0.7074504442925496 Recall: 0.7060027285129604 F1-score: 0.7067258449982929\n",
      "  Losses: 1943.9060026088946\n",
      "\n"
     ]
    },
    {
     "name": "stderr",
     "output_type": "stream",
     "text": [
      "Iteration 8:  89%|█████████████████▊  | 1600/1799 [02:55<00:26,  7.55it/s]                                                                                                                                                             "
     ]
    }
   ],
   "source": [
    "%%time\n",
    "\n",
    "import random\n",
    "from spacy.util import minibatch, compounding\n",
    "from pathlib import Path\n",
    "from spacy.training.example import Example\n",
    "from tqdm import tqdm\n",
    "from spacy.scorer import Scorer\n",
    "import warnings\n",
    "\n",
    "# Get names of other pipes to disable them during training\n",
    "pipe_exceptions = [\"ner\"]\n",
    "unaffected_pipes = [pipe for pipe in nlp.pipe_names if pipe not in pipe_exceptions]\n",
    "\n",
    "# Train NER pipe\n",
    "with nlp.disable_pipes(*unaffected_pipes):\n",
    "  warnings.filterwarnings(\"ignore\", category=UserWarning, module='spacy')\n",
    "  # For each entity in the train data, we can also calculate the precision, recall, f-score using Scorer\n",
    "  scorer = Scorer()\n",
    "  for iteration in range(1, iterations):\n",
    "    # shuffling examples before every iteration\n",
    "    examples = []\n",
    "    random.shuffle(formatted_data)\n",
    "    losses = {}\n",
    "    # batch up the examples using spaCy's minibatch\n",
    "    batches = minibatch(formatted_data, size=compounding(4.0, 32.0, 1.001))\n",
    "    progress_bar = tqdm(total=len(formatted_data), bar_format='{l_bar}{bar:20}{r_bar}{bar:-10b}', \n",
    "                        desc=f\"Iteration {iteration}\", leave=False)\n",
    "    for batch in batches:\n",
    "      for text, annotations in batch:\n",
    "        doc = nlp.make_doc(text)\n",
    "        predict = nlp(text)\n",
    "        ex = Example.from_dict(predict, annotations)\n",
    "        example = Example.from_dict(doc, annotations)\n",
    "        ex.predicted = nlp(str(ex.predicted))\n",
    "        examples.append(ex)\n",
    "        # For each example, nlp.update steps through the words of the input \n",
    "        # At each word, it makes a prediction on the text and checks the annotations \n",
    "        # If it was wrong, it adjusts its weights\n",
    "        nlp.update([example], losses=losses, drop=0.3)\n",
    "        tqdm._instances.clear()\n",
    "        progress_bar.update(1)\n",
    "\n",
    "    metrics = scorer.score_spans(examples, \"ents\")\n",
    "    print(\"Precision: {} Recall: {} F1-score: {}\".format(metrics['ents_p'],\n",
    "                                                                     metrics['ents_r'],\n",
    "                                                                     metrics['ents_f']))\n",
    "    loss_scores.append(losses['ner'])\n",
    "    precision_scores.append(metrics['ents_p'])\n",
    "    recall_scores.append(metrics['ents_r'])\n",
    "    f1_scores.append(metrics['ents_f'])\n",
    "    data.append([iteration, losses['ner'], metrics['ents_p'], metrics['ents_r'], metrics['ents_f']])\n",
    "    print('  Losses:', losses['ner'])\n",
    "    print()\n",
    "    \n",
    "    examples = []\n",
    "    if int(losses['ner']) < losses_min_threshold and iteration >= 30:\n",
    "        break"
   ]
  },
  {
   "cell_type": "markdown",
   "id": "9e947763",
   "metadata": {},
   "source": [
    "# Evaluate model perfomance"
   ]
  },
  {
   "cell_type": "code",
   "execution_count": 21,
   "id": "5df5d955",
   "metadata": {},
   "outputs": [
    {
     "name": "stdout",
     "output_type": "stream",
     "text": [
      "  Itn    NER Loss    Ents P    Ents R    Ents F\n",
      "-----  ----------  --------  --------  --------\n",
      "    1    18690.3   0.386146  0.330832  0.356356\n",
      "    2     3554.19  0.563623  0.534789  0.548827\n",
      "    3     2645.04  0.614071  0.613233  0.613652\n",
      "    4     2399.07  0.646383  0.652115  0.649236\n",
      "    5     2007.82  0.675694  0.663711  0.669649\n",
      "    6     1870.56  0.6875    0.690314  0.688904\n",
      "    7     2094.68  0.713599  0.708731  0.711157\n",
      "    8     1782.82  0.719645  0.719645  0.719645\n",
      "    9     1671.17  0.739849  0.733288  0.736554\n",
      "   10     1831.19  0.744105  0.731924  0.737964\n",
      "   11     1931.29  0.736698  0.736698  0.736698\n",
      "   12     1548.75  0.748299  0.750341  0.749319\n",
      "   13     1507.67  0.760274  0.757162  0.758715\n",
      "   14     1739.46  0.750167  0.763984  0.757013\n",
      "   15     1476.71  0.776262  0.776262  0.776262\n",
      "   16     2169.43  0.774019  0.780355  0.777174\n",
      "   17     1382.46  0.777627  0.782401  0.780007\n",
      "   18     1301.65  0.772423  0.787176  0.77973\n",
      "   19     1389.99  0.777254  0.787858  0.78252\n",
      "   20     1589.4   0.788022  0.798772  0.79336\n",
      "   21     1394.38  0.809556  0.809004  0.80928\n",
      "   22     1501     0.800543  0.804911  0.802721\n",
      "   23     1554.84  0.805838  0.809686  0.807758\n",
      "   24     1198.79  0.804598  0.811733  0.808149\n"
     ]
    }
   ],
   "source": [
    "from tabulate import tabulate\n",
    "headers = [\"Itn\", \"NER Loss\", \"Ents P\", \"Ents R\", \"Ents F\"]\n",
    "\n",
    "print(tabulate(data, headers))"
   ]
  },
  {
   "cell_type": "code",
   "execution_count": 22,
   "id": "724fc3ec",
   "metadata": {},
   "outputs": [
    {
     "data": {
      "image/png": "[encoded data removed]",
      "text/plain": [
       "<Figure size 640x480 with 1 Axes>"
      ]
     },
     "metadata": {},
     "output_type": "display_data"
    },
    {
     "data": {
      "image/png": "[encoded data removed]",
      "text/plain": [
       "<Figure size 640x480 with 1 Axes>"
      ]
     },
     "metadata": {},
     "output_type": "display_data"
    }
   ],
   "source": [
    "import matplotlib.pyplot as plt\n",
    "\n",
    "# Plot losses\n",
    "pl_losses = {'Losses': loss_scores}\n",
    "for name, values in pl_losses.items():\n",
    "  plt.plot(range(len(values)), values, label=name)\n",
    "plt.title('Evolution')\n",
    "plt.xlabel('Iterations')\n",
    "plt.ylabel('Validation loss')\n",
    "plt.legend()\n",
    "plt.show()\n",
    "\n",
    "# Plot evaluation metrics\n",
    "pl_metrics = {'Precision': precision_scores, 'Recall': recall_scores, 'F1': f1_scores}\n",
    "for metric_name, metric_values in pl_metrics.items():\n",
    "    plt.plot(range(len(metric_values)), metric_values, label=metric_name)\n",
    "\n",
    "plt.title('Evaluation Metrics')\n",
    "plt.xlabel('Iterations')\n",
    "plt.ylabel('Validation entity accuracy, precision, recall, f1-score')\n",
    "plt.legend()\n",
    "plt.show()"
   ]
  },
  {
   "cell_type": "markdown",
   "id": "d1d77b54",
   "metadata": {},
   "source": [
    "# Test model"
   ]
  },
  {
   "cell_type": "code",
   "execution_count": 23,
   "id": "33c73d94",
   "metadata": {},
   "outputs": [],
   "source": [
    "test_extracted_part = []\n",
    "\n",
    "for i in range(len(test_df)):\n",
    "  doc = nlp(test_df[\"text\"][i])\n",
    "\n",
    "  if len(doc.ents) != 0:\n",
    "    for ent in doc.ents:\n",
    "      if ent.label_ == test_df['label'][i]:\n",
    "        entity = ent\n",
    "    answer_start = test_df['text'][i].find(entity.text)\n",
    "    answer_end = answer_start + len(entity.text)\n",
    "    if answer_start == -1:\n",
    "        test_extracted_part.append({'id': test_df['id'][i], 'text': test_df['text'][i], 'label': test_df['label'][i], 'extracted_part': {'text': [\"\"], 'answer_start': [0], 'answer_end': [0]}})\n",
    "    else:  \n",
    "        test_extracted_part.append({'id': test_df['id'][i], 'text': test_df['text'][i], 'label': test_df['label'][i], 'extracted_part': {'text': [entity.text], 'answer_start': [answer_start], 'answer_end': [answer_end]}})\n",
    "  else:\n",
    "    test_extracted_part.append({'id': test_df['id'][i], 'text': test_df['text'][i], 'label': test_df['label'][i], 'extracted_part': {'text': [\"\"], 'answer_start': [0], 'answer_end': [0]}})"
   ]
  },
  {
   "cell_type": "code",
   "execution_count": 24,
   "id": "9dfa0b48",
   "metadata": {},
   "outputs": [
    {
     "data": {
      "text/plain": [
       "[{'id': 762883279,\n",
       "  'text': 'МУНИЦИПАЛЬНЫЙ КОНТРАКТ № ______ на оказание услуг по техническому обслуживанию и ремонту принтеров и многофункциональных устройств, заправке и восстановлению картриджей (идентификационный код закупки 223861800296886010100100590019511244) г. Ханты-Мансийск «___» ____________ 2022 г.  (или) возмещения убытков причинённых Исполнителем убытков. 6. Обеспечение исполнения контракта 6.1. Исполнение контракта обеспечиваются предоставлением независимой гарантии, выданной банком и соответствующей требованиям Федерального закона от 05.04.2013 № 44-ФЗ «О контрактной системе в сфере закупок товаров, работ, услуг для обеспечения государственных и муниципальных нужд», или внесением денежных средств на указанный заказчиком счет, на котором в соответствии с законодательством Российской Федерации учитываются операции со средствами, поступающими заказчику. Способ обеспечения исполнения контракта, срок действия независимой гарантии определяются в соответствии с требованиями Федерального закона от 05.04.2013 № 44-ФЗ «О контрактной системе в сфере закупок товаров, работ, услуг для обеспечения государственных и муниципальных нужд» участником закупки, с которым заключается контракт, самостоятельно. 6.2. Обеспечение исполнения Контракта предоставляется Заказчику до заключения Контракта. Размер обеспечения исполнения Контракта составляет _______ рублей ____ копеек (5 процентов от цены контракта). Получатель: Комитет по финансам администрации Ханты-Мансийского района (Администрация Ханты-Мансийского района, л/сч 040.01.001.2) ИНН 8618002968 КПП 860101001 Банк плательщика: РКЦ Ханты-Мансийск//УФК по Ханты-Мансийскому автономному округу – Югре г. Ханты-Мансийск, ЕКС 40102810245370000007 БИК 007162163 Казначейский счет 03232643718290008700 В случае заключения контракта по результатам определения Исполнителя в соответствии с пунктом 1 части 1 статьи 30 Федерального закона от 05.04.2013 № 44-ФЗ «О контрактной системе в сфере закупок товаров, работ, услуг для обеспечения государственных и муниципальных нужд» размер обеспечения исполнения контракта, в том числе предоставляемого с учетом положений статьи 37 Федерального закона от 05.04.2013 № 44-ФЗ «О контрактной системе в сфере закупок товаров, работ, услуг для обеспечения государственных и муниципальных нужд», устанавливается от цены, по которой в соответствии с Федерального закона от 05.04.2013 № 44-ФЗ «О контрактной системе в сфере 13.Адреса места нахождения, банковские реквизиты и подписи Сторон ЗАКАЗЧИК: Администрация Ханты-Мансийского района Юридический адрес: 628011, Тюменская область, Ханты-Мансийский автономный округ - Югра, г. Ханты-Мансийск, ул. Гагарина, 214 Почтовый адрес: 628011,',\n",
       "  'label': 'обеспечение исполнения контракта',\n",
       "  'extracted_part': {'text': ['Размер обеспечения исполнения Контракта составляет _______ рублей ____ копеек (5 процентов от цены контракта).'],\n",
       "   'answer_start': [1283],\n",
       "   'answer_end': [1393]}},\n",
       " {'id': 311837655,\n",
       "  'text': 'Извещение о проведении электронного аукциона для закупки №0124200000622005291 Общая информация Номер извещения 0124200000622005291 Наименование объекта закупки Поставка медицинской мебели Предметом контракта является поставка товара, необходимого для нормального жизнеобеспечения в случаях, ка за счет собственных средств организации Да Финансовое обеспечение закупки Всего: Оплата за 2022 год Оплата за 2023 год Оплата за 2024 год Сумма на последующие годы 541976.34 541976.34 0.00 0.00 0.00 Этапы исполнения контракта Контракт не разделен на этапы исполнения контракта Финансирование за счет собственных средств Итого Сумма контракта (в валюте контракта) на 2022 год на 2023 год на 2024 год на 2025 год 1 2 3 4 541976.34 0 0 0 541976.34 0.00 0.00 0.00 Код видов расходов Сумма контракта (в валюте контракта) на 2022 год на 2023 год на 2024 год на 2025 год 1 2 3 4 5 244 541976.34 0 0 0 Итого 541976.34 0.00 0.00 0.00 Место поставки товара, выполнения работы или оказания услуги 163002, г. Архангельск, пр. Обводный канал, д.7, помещения Заказчика Предусмотрена возможность одностороннего отказа от исполнения контракта в соответствии со ст. 95 Закона № 44-ФЗ Да Обеспечение заявки Обеспечение заявок не требуется Обеспечение исполнения контракта Требуется обеспечение исполнения контракта Размер обеспечения исполнения контракта 10.00% Порядок обеспечения исполнения контракта, требования к обеспечению В соответствии с приложением к извещению об осуществлении закупки Платежные реквизиты \"Номер расчётного счёта\" 03224643110000002400 \"Номер лицевого счёта\" 20246Ц24120 \"БИК\" 011117401 \"Наименование кредитной организации\" ОТДЕЛЕНИЕ АРХАНГЕЛЬСК БАНКА РОССИИ//УФК по Архангельской области и Ненецкому автономному округу г. Архангельск \"Номер корреспондентского счета\" 40102810045370000016 Требования к гарантии качества товара, работы, услуги Требуется гарантия качества товара, работы, услуги Да Информация о требованиях к гарантийному обслуживанию товара в соответствии с проектом контракта Требования к гарантии производителя товара в соответствии с проектом контракта Срок, на который предоставляется гарантия в соответствии с проектом контракта Обеспечение гарантийных обязательств Обеспечение гарантийных обязательств не требуется Информация о банковском и (или) казначейском сопровождении контракта Банковское или казначейское со Извещение о проведении электронного аукциона для закупки №0124200000622005291 Общая информация Номер извещения 0124200000622005291 Наименование объекта закупки Поставка медицинской мебели Предметом контракта является поставка товара, необходимого для нормального жизнеобеспечения в случаях,',\n",
       "  'label': 'обеспечение исполнения контракта',\n",
       "  'extracted_part': {'text': ['Размер обеспечения исполнения контракта 10.00%'],\n",
       "   'answer_start': [1291],\n",
       "   'answer_end': [1337]}}]"
      ]
     },
     "execution_count": 24,
     "metadata": {},
     "output_type": "execute_result"
    }
   ],
   "source": [
    "test_extracted_part[:2]"
   ]
  },
  {
   "cell_type": "code",
   "execution_count": 25,
   "id": "0b832710",
   "metadata": {},
   "outputs": [
    {
     "name": "stdout",
     "output_type": "stream",
     "text": [
      "Размер обеспечения исполнения Контракта составляет _______ рублей ____ копеек (5 процентов от цены контракта).\n",
      "1283\n",
      "1393\n",
      "обеспечение исполнения контракта\n"
     ]
    }
   ],
   "source": [
    "doc = nlp(test_df[\"text\"][0])\n",
    "for ent in doc.ents:\n",
    "    print(f'{ent.text}\\n{ent.start_char}\\n{ent.end_char}\\n{ent.label_}')"
   ]
  },
  {
   "cell_type": "code",
   "execution_count": 26,
   "id": "f9bcd94c",
   "metadata": {},
   "outputs": [
    {
     "data": {
      "text/html": [
       "<span class=\"tex2jax_ignore\"><div class=\"entities\" style=\"line-height: 2.5; direction: ltr\">МУНИЦИПАЛЬНЫЙ КОНТРАКТ № ______ на оказание услуг по техническому обслуживанию и ремонту принтеров и многофункциональных устройств, заправке и восстановлению картриджей (идентификационный код закупки 223861800296886010100100590019511244) г. Ханты-Мансийск «___» ____________ 2022 г.  (или) возмещения убытков причинённых Исполнителем убытков. 6. Обеспечение исполнения контракта 6.1. Исполнение контракта обеспечиваются предоставлением независимой гарантии, выданной банком и соответствующей требованиям Федерального закона от 05.04.2013 № 44-ФЗ «О контрактной системе в сфере закупок товаров, работ, услуг для обеспечения государственных и муниципальных нужд», или внесением денежных средств на указанный заказчиком счет, на котором в соответствии с законодательством Российской Федерации учитываются операции со средствами, поступающими заказчику. Способ обеспечения исполнения контракта, срок действия независимой гарантии определяются в соответствии с требованиями Федерального закона от 05.04.2013 № 44-ФЗ «О контрактной системе в сфере закупок товаров, работ, услуг для обеспечения государственных и муниципальных нужд» участником закупки, с которым заключается контракт, самостоятельно. 6.2. Обеспечение исполнения Контракта предоставляется Заказчику до заключения Контракта. \n",
       "<mark class=\"entity\" style=\"background: #ddd; padding: 0.45em 0.6em; margin: 0 0.25em; line-height: 1; border-radius: 0.35em;\">\n",
       "    Размер обеспечения исполнения Контракта составляет _______ рублей ____ копеек (5 процентов от цены контракта).\n",
       "    <span style=\"font-size: 0.8em; font-weight: bold; line-height: 1; border-radius: 0.35em; vertical-align: middle; margin-left: 0.5rem\">обеспечение исполнения контракта</span>\n",
       "</mark>\n",
       " Получатель: Комитет по финансам администрации Ханты-Мансийского района (Администрация Ханты-Мансийского района, л/сч 040.01.001.2) ИНН 8618002968 КПП 860101001 Банк плательщика: РКЦ Ханты-Мансийск//УФК по Ханты-Мансийскому автономному округу – Югре г. Ханты-Мансийск, ЕКС 40102810245370000007 БИК 007162163 Казначейский счет 03232643718290008700 В случае заключения контракта по результатам определения Исполнителя в соответствии с пунктом 1 части 1 статьи 30 Федерального закона от 05.04.2013 № 44-ФЗ «О контрактной системе в сфере закупок товаров, работ, услуг для обеспечения государственных и муниципальных нужд» размер обеспечения исполнения контракта, в том числе предоставляемого с учетом положений статьи 37 Федерального закона от 05.04.2013 № 44-ФЗ «О контрактной системе в сфере закупок товаров, работ, услуг для обеспечения государственных и муниципальных нужд», устанавливается от цены, по которой в соответствии с Федерального закона от 05.04.2013 № 44-ФЗ «О контрактной системе в сфере 13.Адреса места нахождения, банковские реквизиты и подписи Сторон ЗАКАЗЧИК: Администрация Ханты-Мансийского района Юридический адрес: 628011, Тюменская область, Ханты-Мансийский автономный округ - Югра, г. Ханты-Мансийск, ул. Гагарина, 214 Почтовый адрес: 628011,</div></span>"
      ],
      "text/plain": [
       "<IPython.core.display.HTML object>"
      ]
     },
     "metadata": {},
     "output_type": "display_data"
    }
   ],
   "source": [
    "# Use displacy to visualize entities\n",
    "displacy.render(doc, style='ent', jupyter=True)"
   ]
  },
  {
   "cell_type": "markdown",
   "id": "25c227d0",
   "metadata": {},
   "source": [
    "# Save predictions and model"
   ]
  },
  {
   "cell_type": "code",
   "execution_count": 27,
   "id": "e8d49ff7",
   "metadata": {},
   "outputs": [],
   "source": [
    "import numpy as np\n",
    "\n",
    "class NpEncoder(json.JSONEncoder):\n",
    "    def default(self, obj):\n",
    "        if isinstance(obj, np.integer):\n",
    "            return int(obj)\n",
    "        if isinstance(obj, np.floating):\n",
    "            return float(obj)\n",
    "        if isinstance(obj, np.ndarray):\n",
    "            return obj.tolist()\n",
    "        return json.JSONEncoder.default(self, obj)"
   ]
  },
  {
   "cell_type": "code",
   "execution_count": 28,
   "id": "a3a99862",
   "metadata": {},
   "outputs": [],
   "source": [
    "PRED_PATH = \"./predictions/\""
   ]
  },
  {
   "cell_type": "code",
   "execution_count": 29,
   "id": "fee090bb",
   "metadata": {},
   "outputs": [],
   "source": [
    "with open(PRED_PATH + 'predictions.json', 'w', encoding=\"utf-8\") as f:\n",
    "    json.dump(test_extracted_part, f, ensure_ascii=False, indent=2, cls=NpEncoder)"
   ]
  },
  {
   "cell_type": "code",
   "execution_count": 30,
   "id": "e2b56718",
   "metadata": {},
   "outputs": [
    {
     "name": "stdout",
     "output_type": "stream",
     "text": [
      "Saved model to reference_ner_model\n"
     ]
    }
   ],
   "source": [
    "# Output directory\n",
    "from pathlib import Path\n",
    "output_dir=Path('./reference_ner_model')\n",
    "\n",
    "# Saving the model to the output directory\n",
    "if not output_dir.exists():\n",
    "  output_dir.mkdir()\n",
    "nlp.meta['name'] = 'ner'  # rename model\n",
    "nlp.to_disk(output_dir)\n",
    "print(\"Saved model to\", output_dir)"
   ]
  }
 ],
 "metadata": {
  "kernelspec": {
   "display_name": "Python 3 (ipykernel)",
   "language": "python",
   "name": "python3"
  },
  "language_info": {
   "codemirror_mode": {
    "name": "ipython",
    "version": 3
   },
   "file_extension": ".py",
   "mimetype": "text/x-python",
   "name": "python",
   "nbconvert_exporter": "python",
   "pygments_lexer": "ipython3",
   "version": "3.9.13"
  }
 },
 "nbformat": 4,
 "nbformat_minor": 5
}
