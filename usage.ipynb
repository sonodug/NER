{
 "cells": [
  {
   "cell_type": "markdown",
   "id": "46989048",
   "metadata": {},
   "source": [
    "-h\n",
    "\n",
    "-p\n",
    "\n",
    "-p -i\n",
    "\n",
    "-p -i -v\n",
    "\n",
    "-p -i -o\n",
    "\n",
    "-e -i\n",
    "\n",
    "-f -i\n",
    "\n",
    "-f -i params\n",
    "\n",
    "-r"
   ]
  },
  {
   "cell_type": "code",
   "execution_count": 1,
   "id": "7fc15e0b",
   "metadata": {},
   "outputs": [
    {
     "name": "stdout",
     "output_type": "stream",
     "text": [
      "usage: model.py [-h] [-p] [-f] [-e] [-i path] [-o path] [-r] [-v]\n",
      "\n",
      "NER\n",
      "\n",
      "optional arguments:\n",
      "  -h, --help            show this help message and exit\n",
      "  -p, --predict         use it for prediction from a text input: (id, text,\n",
      "                        label: (обеспечение исполнения контракта | обеспечение\n",
      "                        гарантийных обязательств) or from a json file\n",
      "  -f, --fit             use it for training model\n",
      "  -e, --evaluate        use it to evaluate model performance\n",
      "  -i path, --input path\n",
      "                        path to file in json with input data for fit / predict\n",
      "                        / evaluate\n",
      "  -o path, --out path   path for output in predictions.json\n",
      "  -r, --rollback        return the model to its original state\n",
      "  -v, --verbose         verbose output\n",
      "\n",
      "Hi\n"
     ]
    }
   ],
   "source": [
    "!python model.py -h "
   ]
  },
  {
   "cell_type": "code",
   "execution_count": null,
   "id": "58b8cf5f",
   "metadata": {},
   "outputs": [],
   "source": [
    "!python model.py -p"
   ]
  },
  {
   "cell_type": "code",
   "execution_count": null,
   "id": "bd7934bd",
   "metadata": {},
   "outputs": [],
   "source": []
  },
  {
   "cell_type": "code",
   "execution_count": null,
   "id": "3c980755",
   "metadata": {},
   "outputs": [],
   "source": []
  },
  {
   "cell_type": "code",
   "execution_count": null,
   "id": "92b00f10",
   "metadata": {},
   "outputs": [],
   "source": []
  },
  {
   "cell_type": "code",
   "execution_count": null,
   "id": "149a644f",
   "metadata": {},
   "outputs": [],
   "source": []
  },
  {
   "cell_type": "code",
   "execution_count": null,
   "id": "009617c1",
   "metadata": {},
   "outputs": [],
   "source": []
  },
  {
   "cell_type": "code",
   "execution_count": null,
   "id": "9f9b94bf",
   "metadata": {},
   "outputs": [],
   "source": []
  }
 ],
 "metadata": {
  "kernelspec": {
   "display_name": "Python 3 (ipykernel)",
   "language": "python",
   "name": "python3"
  },
  "language_info": {
   "codemirror_mode": {
    "name": "ipython",
    "version": 3
   },
   "file_extension": ".py",
   "mimetype": "text/x-python",
   "name": "python",
   "nbconvert_exporter": "python",
   "pygments_lexer": "ipython3",
   "version": "3.9.13"
  }
 },
 "nbformat": 4,
 "nbformat_minor": 5
}
