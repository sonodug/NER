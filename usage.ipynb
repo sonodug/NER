{
 "cells": [
  {
   "cell_type": "code",
   "execution_count": 2,
   "id": "bbfd05eb",
   "metadata": {},
   "outputs": [
    {
     "name": "stdout",
     "output_type": "stream",
     "text": [
      "usage: model.py [-h] [-p] [-f] [-it ITER] [-d DROP] [-e] [-i path] [-o path]\n",
      "                [-r] [-v]\n",
      "\n",
      "NER\n",
      "\n",
      "optional arguments:\n",
      "  -h, --help            show this help message and exit\n",
      "  -p, --predict         use it for prediction from a text input\n",
      "  -f, --fit             use it for training model\n",
      "  -it ITER, --iter ITER\n",
      "                        Number of iterations during training\n",
      "  -d DROP, --drop DROP  Dropout rate\n",
      "  -e, --evaluate        use it to evaluate model performance\n",
      "  -i path, --input path\n",
      "                        path to file in json with input data for fit / predict\n",
      "                        / evaluate\n",
      "  -o path, --out path   path to output in predictions.json\n",
      "  -r, --rollback        return the model to its original state\n",
      "  -v, --verbose         verbose output\n",
      "\n",
      "Example: !python model.py -f -i ./example_data/train.json -it 2 -drop 0.2\n"
     ]
    }
   ],
   "source": [
    "!python model.py -h"
   ]
  },
  {
   "cell_type": "markdown",
   "id": "0333bc57",
   "metadata": {},
   "source": [
    "### Predict"
   ]
  },
  {
   "cell_type": "code",
   "execution_count": null,
   "id": "83368b38",
   "metadata": {},
   "outputs": [],
   "source": [
    "# Provide input for id, text and label\n",
    "!python model.py -p"
   ]
  },
  {
   "cell_type": "code",
   "execution_count": null,
   "id": "d71b96ca",
   "metadata": {},
   "outputs": [],
   "source": [
    "!python model.py -p -i ./example_data/test.json"
   ]
  },
  {
   "cell_type": "code",
   "execution_count": null,
   "id": "82a2c8b3",
   "metadata": {},
   "outputs": [],
   "source": [
    "!python model.py -p -i ./example_data/test.json -v"
   ]
  },
  {
   "cell_type": "code",
   "execution_count": null,
   "id": "814a7c6d",
   "metadata": {},
   "outputs": [],
   "source": [
    "!python model.py -p -i ./example_data/test.json -o ./your_output_dir/"
   ]
  },
  {
   "cell_type": "markdown",
   "id": "a358c06b",
   "metadata": {},
   "source": [
    "### Evaluate"
   ]
  },
  {
   "cell_type": "code",
   "execution_count": null,
   "id": "6cc9368c",
   "metadata": {},
   "outputs": [],
   "source": [
    "!python model.py -e -i ./example_data/eval_cropped.json"
   ]
  },
  {
   "cell_type": "markdown",
   "id": "a8366465",
   "metadata": {},
   "source": [
    "### Train"
   ]
  },
  {
   "cell_type": "code",
   "execution_count": null,
   "id": "b1deec6b",
   "metadata": {},
   "outputs": [],
   "source": [
    "!python model.py -f -i ./example_data/train.json"
   ]
  },
  {
   "cell_type": "code",
   "execution_count": null,
   "id": "4063c675",
   "metadata": {},
   "outputs": [],
   "source": [
    "!python model.py -f -i ./example_data/train.json -it 2 -drop 0.2"
   ]
  },
  {
   "cell_type": "code",
   "execution_count": null,
   "id": "d61aaa99",
   "metadata": {},
   "outputs": [],
   "source": [
    "!python model.py -r"
   ]
  }
 ],
 "metadata": {
  "kernelspec": {
   "display_name": "Python 3 (ipykernel)",
   "language": "python",
   "name": "python3"
  },
  "language_info": {
   "codemirror_mode": {
    "name": "ipython",
    "version": 3
   },
   "file_extension": ".py",
   "mimetype": "text/x-python",
   "name": "python",
   "nbconvert_exporter": "python",
   "pygments_lexer": "ipython3",
   "version": "3.9.13"
  }
 },
 "nbformat": 4,
 "nbformat_minor": 5
}
